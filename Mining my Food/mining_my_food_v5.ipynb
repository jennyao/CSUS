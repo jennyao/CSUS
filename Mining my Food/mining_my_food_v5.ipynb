{
 "cells": [
  {
   "cell_type": "markdown",
   "metadata": {
    "colab_type": "text",
    "id": "5nPqRaKpUWJk"
   },
   "source": [
    "# Final Project: Mining my Food\n",
    "### By Jenny Yao"
   ]
  },
  {
   "cell_type": "markdown",
   "metadata": {
    "colab_type": "text",
    "id": "EXZ7OtlbUWJl"
   },
   "source": [
    "Focus on one or more data sets and a particular task (e.g., prediction,\n",
    "clustering). Compare multiple well-known algorithms/models (those discussed in class) to address this task. Compare their performance. The focus here is more on the data set and the particular task, than on the novelty of the algorithms."
   ]
  },
  {
   "cell_type": "markdown",
   "metadata": {
    "colab_type": "text",
    "id": "Hu3v2yPnUWJn"
   },
   "source": [
    "## Classification\n",
    "**Expected Output:** Based on the features of each recipe, we try to classify recipes into healthy and unhealthy.<br> \n",
    "**Expected Input:** All of the input ingredients from each recipes from the csv and/or json files.\n",
    "\n",
    "*Features:*\n",
    "- Protein\n",
    "- Sodium\n",
    "- Calories\n",
    "- Fat\n",
    "\n",
    "*Response/Target:*\n",
    "- Healthy\n",
    "- Unhealthy\n",
    "\n",
    "Classification: \n",
    "- Decision Tree\n",
    "- k-NN\n",
    "- SVM\n",
    "- Logistic Regression"
   ]
  },
  {
   "cell_type": "markdown",
   "metadata": {
    "colab_type": "text",
    "id": "_tsXI-c5UWJp"
   },
   "source": [
    "## Preprocessing the Data"
   ]
  },
  {
   "cell_type": "code",
   "execution_count": 1,
   "metadata": {
    "colab": {
     "autoexec": {
      "startup": false,
      "wait_interval": 0
     }
    },
    "colab_type": "code",
    "collapsed": true,
    "id": "z3gfUH1EUWJq"
   },
   "outputs": [],
   "source": [
    "# Libraries\n",
    "import numpy as np\n",
    "import pandas as pd\n",
    "import matplotlib.pyplot as plt\n",
    "import sklearn.cluster as sk_cluster\n",
    "from sklearn.feature_extraction import DictVectorizer\n",
    "\n",
    "%matplotlib inline"
   ]
  },
  {
   "cell_type": "markdown",
   "metadata": {
    "colab_type": "text",
    "id": "4EkMPyeMUWJy"
   },
   "source": [
    "\n",
    "### Step 1: Load the Data\n",
    "In the json file, each recipe is listed with the Category column which has some labels, and one of them is \"Healthy\". This will be my ground truth.<brk> 80% of the recipes will be used to train the model. 20% will be used for validation."
   ]
  },
  {
   "cell_type": "code",
   "execution_count": 2,
   "metadata": {
    "colab": {
     "autoexec": {
      "startup": false,
      "wait_interval": 0
     },
     "base_uri": "https://localhost:8080/",
     "height": 854
    },
    "colab_type": "code",
    "collapsed": true,
    "executionInfo": {
     "elapsed": 641,
     "status": "error",
     "timestamp": 1525070485966,
     "user": {
      "displayName": "Jenny Yao",
      "photoUrl": "//lh6.googleusercontent.com/-7slFnHGa3GM/AAAAAAAAAAI/AAAAAAAADw8/eoXxslg5DJE/s50-c-k-no/photo.jpg",
      "userId": "116728134215668822228"
     },
     "user_tz": 420
    },
    "id": "MLcUvhquUWJ6",
    "outputId": "7b085afa-fd19-4970-8452-ff23a2f53683"
   },
   "outputs": [],
   "source": [
    "# Display all columns by reading from the csv file\n",
    "column_names = ['title', 'rating', 'calories','protein','fat','sodium','wasteless','22-minute meals','3 ingredients','30 days of groceries']\n",
    "recipe_list = pd.read_csv(r'C:\\Users\\Jenny\\Documents\\CSUS Computer Science\\Spring 2018\\CSC 177\\Final Project\\epi_r.csv')"
   ]
  },
  {
   "cell_type": "code",
   "execution_count": 3,
   "metadata": {
    "colab": {
     "autoexec": {
      "startup": false,
      "wait_interval": 0
     }
    },
    "colab_type": "code",
    "id": "j1CZ2Zc5UWJ_",
    "outputId": "4b90ac23-34c3-42c9-d7c5-35e93e0ddcef"
   },
   "outputs": [
    {
     "data": {
      "text/html": [
       "<div>\n",
       "<style>\n",
       "    .dataframe thead tr:only-child th {\n",
       "        text-align: right;\n",
       "    }\n",
       "\n",
       "    .dataframe thead th {\n",
       "        text-align: left;\n",
       "    }\n",
       "\n",
       "    .dataframe tbody tr th {\n",
       "        vertical-align: top;\n",
       "    }\n",
       "</style>\n",
       "<table border=\"1\" class=\"dataframe\">\n",
       "  <thead>\n",
       "    <tr style=\"text-align: right;\">\n",
       "      <th></th>\n",
       "      <th>title</th>\n",
       "      <th>rating</th>\n",
       "      <th>calories</th>\n",
       "      <th>protein</th>\n",
       "      <th>fat</th>\n",
       "      <th>sodium</th>\n",
       "      <th>#cakeweek</th>\n",
       "      <th>#wasteless</th>\n",
       "      <th>22-minute meals</th>\n",
       "      <th>3-ingredient recipes</th>\n",
       "      <th>...</th>\n",
       "      <th>yellow squash</th>\n",
       "      <th>yogurt</th>\n",
       "      <th>yonkers</th>\n",
       "      <th>yuca</th>\n",
       "      <th>zucchini</th>\n",
       "      <th>cookbooks</th>\n",
       "      <th>leftovers</th>\n",
       "      <th>snack</th>\n",
       "      <th>snack week</th>\n",
       "      <th>turkey</th>\n",
       "    </tr>\n",
       "  </thead>\n",
       "  <tbody>\n",
       "    <tr>\n",
       "      <th>0</th>\n",
       "      <td>Lentil, Apple, and Turkey Wrap</td>\n",
       "      <td>2.500</td>\n",
       "      <td>426.0</td>\n",
       "      <td>30.0</td>\n",
       "      <td>7.0</td>\n",
       "      <td>559.0</td>\n",
       "      <td>0</td>\n",
       "      <td>0</td>\n",
       "      <td>0</td>\n",
       "      <td>0</td>\n",
       "      <td>...</td>\n",
       "      <td>0</td>\n",
       "      <td>0</td>\n",
       "      <td>0</td>\n",
       "      <td>0</td>\n",
       "      <td>0</td>\n",
       "      <td>0</td>\n",
       "      <td>0</td>\n",
       "      <td>0</td>\n",
       "      <td>0</td>\n",
       "      <td>1</td>\n",
       "    </tr>\n",
       "    <tr>\n",
       "      <th>1</th>\n",
       "      <td>Boudin Blanc Terrine with Red Onion Confit</td>\n",
       "      <td>4.375</td>\n",
       "      <td>403.0</td>\n",
       "      <td>18.0</td>\n",
       "      <td>23.0</td>\n",
       "      <td>1439.0</td>\n",
       "      <td>0</td>\n",
       "      <td>0</td>\n",
       "      <td>0</td>\n",
       "      <td>0</td>\n",
       "      <td>...</td>\n",
       "      <td>0</td>\n",
       "      <td>0</td>\n",
       "      <td>0</td>\n",
       "      <td>0</td>\n",
       "      <td>0</td>\n",
       "      <td>0</td>\n",
       "      <td>0</td>\n",
       "      <td>0</td>\n",
       "      <td>0</td>\n",
       "      <td>0</td>\n",
       "    </tr>\n",
       "    <tr>\n",
       "      <th>2</th>\n",
       "      <td>Potato and Fennel Soup Hodge</td>\n",
       "      <td>3.750</td>\n",
       "      <td>165.0</td>\n",
       "      <td>6.0</td>\n",
       "      <td>7.0</td>\n",
       "      <td>165.0</td>\n",
       "      <td>0</td>\n",
       "      <td>0</td>\n",
       "      <td>0</td>\n",
       "      <td>0</td>\n",
       "      <td>...</td>\n",
       "      <td>0</td>\n",
       "      <td>0</td>\n",
       "      <td>0</td>\n",
       "      <td>0</td>\n",
       "      <td>0</td>\n",
       "      <td>0</td>\n",
       "      <td>0</td>\n",
       "      <td>0</td>\n",
       "      <td>0</td>\n",
       "      <td>0</td>\n",
       "    </tr>\n",
       "    <tr>\n",
       "      <th>3</th>\n",
       "      <td>Mahi-Mahi in Tomato Olive Sauce</td>\n",
       "      <td>5.000</td>\n",
       "      <td>NaN</td>\n",
       "      <td>NaN</td>\n",
       "      <td>NaN</td>\n",
       "      <td>NaN</td>\n",
       "      <td>0</td>\n",
       "      <td>0</td>\n",
       "      <td>0</td>\n",
       "      <td>0</td>\n",
       "      <td>...</td>\n",
       "      <td>0</td>\n",
       "      <td>0</td>\n",
       "      <td>0</td>\n",
       "      <td>0</td>\n",
       "      <td>0</td>\n",
       "      <td>0</td>\n",
       "      <td>0</td>\n",
       "      <td>0</td>\n",
       "      <td>0</td>\n",
       "      <td>0</td>\n",
       "    </tr>\n",
       "    <tr>\n",
       "      <th>4</th>\n",
       "      <td>Spinach Noodle Casserole</td>\n",
       "      <td>3.125</td>\n",
       "      <td>547.0</td>\n",
       "      <td>20.0</td>\n",
       "      <td>32.0</td>\n",
       "      <td>452.0</td>\n",
       "      <td>0</td>\n",
       "      <td>0</td>\n",
       "      <td>0</td>\n",
       "      <td>0</td>\n",
       "      <td>...</td>\n",
       "      <td>0</td>\n",
       "      <td>0</td>\n",
       "      <td>0</td>\n",
       "      <td>0</td>\n",
       "      <td>0</td>\n",
       "      <td>0</td>\n",
       "      <td>0</td>\n",
       "      <td>0</td>\n",
       "      <td>0</td>\n",
       "      <td>0</td>\n",
       "    </tr>\n",
       "  </tbody>\n",
       "</table>\n",
       "<p>5 rows × 680 columns</p>\n",
       "</div>"
      ],
      "text/plain": [
       "                                         title  rating  calories  protein  \\\n",
       "0              Lentil, Apple, and Turkey Wrap    2.500     426.0     30.0   \n",
       "1  Boudin Blanc Terrine with Red Onion Confit    4.375     403.0     18.0   \n",
       "2                Potato and Fennel Soup Hodge    3.750     165.0      6.0   \n",
       "3             Mahi-Mahi in Tomato Olive Sauce    5.000       NaN      NaN   \n",
       "4                    Spinach Noodle Casserole    3.125     547.0     20.0   \n",
       "\n",
       "    fat  sodium  #cakeweek  #wasteless  22-minute meals  3-ingredient recipes  \\\n",
       "0   7.0   559.0          0           0                0                     0   \n",
       "1  23.0  1439.0          0           0                0                     0   \n",
       "2   7.0   165.0          0           0                0                     0   \n",
       "3   NaN     NaN          0           0                0                     0   \n",
       "4  32.0   452.0          0           0                0                     0   \n",
       "\n",
       "    ...    yellow squash  yogurt  yonkers  yuca  zucchini  cookbooks  \\\n",
       "0   ...                0       0        0     0         0          0   \n",
       "1   ...                0       0        0     0         0          0   \n",
       "2   ...                0       0        0     0         0          0   \n",
       "3   ...                0       0        0     0         0          0   \n",
       "4   ...                0       0        0     0         0          0   \n",
       "\n",
       "   leftovers  snack  snack week  turkey  \n",
       "0          0      0           0       1  \n",
       "1          0      0           0       0  \n",
       "2          0      0           0       0  \n",
       "3          0      0           0       0  \n",
       "4          0      0           0       0  \n",
       "\n",
       "[5 rows x 680 columns]"
      ]
     },
     "execution_count": 3,
     "metadata": {},
     "output_type": "execute_result"
    }
   ],
   "source": [
    "recipe_list.head()"
   ]
  },
  {
   "cell_type": "code",
   "execution_count": 4,
   "metadata": {
    "colab": {
     "autoexec": {
      "startup": false,
      "wait_interval": 0
     }
    },
    "colab_type": "code",
    "id": "fl0CFxs_UWKf",
    "outputId": "ccce03b9-4831-48d5-c181-56d3382a82b9"
   },
   "outputs": [
    {
     "data": {
      "text/plain": [
       "(20052, 680)"
      ]
     },
     "execution_count": 4,
     "metadata": {},
     "output_type": "execute_result"
    }
   ],
   "source": [
    "recipe_list.shape"
   ]
  },
  {
   "cell_type": "code",
   "execution_count": 5,
   "metadata": {
    "colab": {
     "autoexec": {
      "startup": false,
      "wait_interval": 0
     }
    },
    "colab_type": "code",
    "collapsed": true,
    "id": "e0N8T_YpUWKw"
   },
   "outputs": [],
   "source": [
    "# For all feature columns, we drop the rows that contain NaN within those columns\n",
    "# if (column_names == ['calories','protein','fat','sodium'\n",
    "recipe_list.dropna(subset=['calories','protein','fat','sodium'], inplace=True)"
   ]
  },
  {
   "cell_type": "code",
   "execution_count": 6,
   "metadata": {
    "colab": {
     "autoexec": {
      "startup": false,
      "wait_interval": 0
     }
    },
    "colab_type": "code",
    "id": "oNrV64A3UWK_",
    "outputId": "0d1388d0-363a-4a54-cd73-6486c44221ba"
   },
   "outputs": [
    {
     "data": {
      "text/plain": [
       "(15864, 680)"
      ]
     },
     "execution_count": 6,
     "metadata": {},
     "output_type": "execute_result"
    }
   ],
   "source": [
    "recipe_list.shape"
   ]
  },
  {
   "cell_type": "code",
   "execution_count": 7,
   "metadata": {
    "colab": {
     "autoexec": {
      "startup": false,
      "wait_interval": 0
     }
    },
    "colab_type": "code",
    "id": "Hz_yc0VJUWLK",
    "outputId": "632c8e3f-ccac-4e23-8733-830860132ad7"
   },
   "outputs": [
    {
     "data": {
      "text/html": [
       "<div>\n",
       "<style>\n",
       "    .dataframe thead tr:only-child th {\n",
       "        text-align: right;\n",
       "    }\n",
       "\n",
       "    .dataframe thead th {\n",
       "        text-align: left;\n",
       "    }\n",
       "\n",
       "    .dataframe tbody tr th {\n",
       "        vertical-align: top;\n",
       "    }\n",
       "</style>\n",
       "<table border=\"1\" class=\"dataframe\">\n",
       "  <thead>\n",
       "    <tr style=\"text-align: right;\">\n",
       "      <th></th>\n",
       "      <th>title</th>\n",
       "      <th>rating</th>\n",
       "      <th>calories</th>\n",
       "      <th>protein</th>\n",
       "      <th>fat</th>\n",
       "      <th>sodium</th>\n",
       "      <th>#cakeweek</th>\n",
       "      <th>#wasteless</th>\n",
       "      <th>22-minute meals</th>\n",
       "      <th>3-ingredient recipes</th>\n",
       "      <th>...</th>\n",
       "      <th>yellow squash</th>\n",
       "      <th>yogurt</th>\n",
       "      <th>yonkers</th>\n",
       "      <th>yuca</th>\n",
       "      <th>zucchini</th>\n",
       "      <th>cookbooks</th>\n",
       "      <th>leftovers</th>\n",
       "      <th>snack</th>\n",
       "      <th>snack week</th>\n",
       "      <th>turkey</th>\n",
       "    </tr>\n",
       "  </thead>\n",
       "  <tbody>\n",
       "    <tr>\n",
       "      <th>0</th>\n",
       "      <td>Lentil, Apple, and Turkey Wrap</td>\n",
       "      <td>2.500</td>\n",
       "      <td>426.0</td>\n",
       "      <td>30.0</td>\n",
       "      <td>7.0</td>\n",
       "      <td>559.0</td>\n",
       "      <td>0</td>\n",
       "      <td>0</td>\n",
       "      <td>0</td>\n",
       "      <td>0</td>\n",
       "      <td>...</td>\n",
       "      <td>0</td>\n",
       "      <td>0</td>\n",
       "      <td>0</td>\n",
       "      <td>0</td>\n",
       "      <td>0</td>\n",
       "      <td>0</td>\n",
       "      <td>0</td>\n",
       "      <td>0</td>\n",
       "      <td>0</td>\n",
       "      <td>1</td>\n",
       "    </tr>\n",
       "    <tr>\n",
       "      <th>1</th>\n",
       "      <td>Boudin Blanc Terrine with Red Onion Confit</td>\n",
       "      <td>4.375</td>\n",
       "      <td>403.0</td>\n",
       "      <td>18.0</td>\n",
       "      <td>23.0</td>\n",
       "      <td>1439.0</td>\n",
       "      <td>0</td>\n",
       "      <td>0</td>\n",
       "      <td>0</td>\n",
       "      <td>0</td>\n",
       "      <td>...</td>\n",
       "      <td>0</td>\n",
       "      <td>0</td>\n",
       "      <td>0</td>\n",
       "      <td>0</td>\n",
       "      <td>0</td>\n",
       "      <td>0</td>\n",
       "      <td>0</td>\n",
       "      <td>0</td>\n",
       "      <td>0</td>\n",
       "      <td>0</td>\n",
       "    </tr>\n",
       "    <tr>\n",
       "      <th>2</th>\n",
       "      <td>Potato and Fennel Soup Hodge</td>\n",
       "      <td>3.750</td>\n",
       "      <td>165.0</td>\n",
       "      <td>6.0</td>\n",
       "      <td>7.0</td>\n",
       "      <td>165.0</td>\n",
       "      <td>0</td>\n",
       "      <td>0</td>\n",
       "      <td>0</td>\n",
       "      <td>0</td>\n",
       "      <td>...</td>\n",
       "      <td>0</td>\n",
       "      <td>0</td>\n",
       "      <td>0</td>\n",
       "      <td>0</td>\n",
       "      <td>0</td>\n",
       "      <td>0</td>\n",
       "      <td>0</td>\n",
       "      <td>0</td>\n",
       "      <td>0</td>\n",
       "      <td>0</td>\n",
       "    </tr>\n",
       "    <tr>\n",
       "      <th>4</th>\n",
       "      <td>Spinach Noodle Casserole</td>\n",
       "      <td>3.125</td>\n",
       "      <td>547.0</td>\n",
       "      <td>20.0</td>\n",
       "      <td>32.0</td>\n",
       "      <td>452.0</td>\n",
       "      <td>0</td>\n",
       "      <td>0</td>\n",
       "      <td>0</td>\n",
       "      <td>0</td>\n",
       "      <td>...</td>\n",
       "      <td>0</td>\n",
       "      <td>0</td>\n",
       "      <td>0</td>\n",
       "      <td>0</td>\n",
       "      <td>0</td>\n",
       "      <td>0</td>\n",
       "      <td>0</td>\n",
       "      <td>0</td>\n",
       "      <td>0</td>\n",
       "      <td>0</td>\n",
       "    </tr>\n",
       "    <tr>\n",
       "      <th>5</th>\n",
       "      <td>The Best Blts</td>\n",
       "      <td>4.375</td>\n",
       "      <td>948.0</td>\n",
       "      <td>19.0</td>\n",
       "      <td>79.0</td>\n",
       "      <td>1042.0</td>\n",
       "      <td>0</td>\n",
       "      <td>0</td>\n",
       "      <td>0</td>\n",
       "      <td>0</td>\n",
       "      <td>...</td>\n",
       "      <td>0</td>\n",
       "      <td>0</td>\n",
       "      <td>0</td>\n",
       "      <td>0</td>\n",
       "      <td>0</td>\n",
       "      <td>0</td>\n",
       "      <td>0</td>\n",
       "      <td>0</td>\n",
       "      <td>0</td>\n",
       "      <td>0</td>\n",
       "    </tr>\n",
       "  </tbody>\n",
       "</table>\n",
       "<p>5 rows × 680 columns</p>\n",
       "</div>"
      ],
      "text/plain": [
       "                                         title  rating  calories  protein  \\\n",
       "0              Lentil, Apple, and Turkey Wrap    2.500     426.0     30.0   \n",
       "1  Boudin Blanc Terrine with Red Onion Confit    4.375     403.0     18.0   \n",
       "2                Potato and Fennel Soup Hodge    3.750     165.0      6.0   \n",
       "4                    Spinach Noodle Casserole    3.125     547.0     20.0   \n",
       "5                               The Best Blts    4.375     948.0     19.0   \n",
       "\n",
       "    fat  sodium  #cakeweek  #wasteless  22-minute meals  3-ingredient recipes  \\\n",
       "0   7.0   559.0          0           0                0                     0   \n",
       "1  23.0  1439.0          0           0                0                     0   \n",
       "2   7.0   165.0          0           0                0                     0   \n",
       "4  32.0   452.0          0           0                0                     0   \n",
       "5  79.0  1042.0          0           0                0                     0   \n",
       "\n",
       "    ...    yellow squash  yogurt  yonkers  yuca  zucchini  cookbooks  \\\n",
       "0   ...                0       0        0     0         0          0   \n",
       "1   ...                0       0        0     0         0          0   \n",
       "2   ...                0       0        0     0         0          0   \n",
       "4   ...                0       0        0     0         0          0   \n",
       "5   ...                0       0        0     0         0          0   \n",
       "\n",
       "   leftovers  snack  snack week  turkey  \n",
       "0          0      0           0       1  \n",
       "1          0      0           0       0  \n",
       "2          0      0           0       0  \n",
       "4          0      0           0       0  \n",
       "5          0      0           0       0  \n",
       "\n",
       "[5 rows x 680 columns]"
      ]
     },
     "execution_count": 7,
     "metadata": {},
     "output_type": "execute_result"
    }
   ],
   "source": [
    "recipe_list.head()"
   ]
  },
  {
   "cell_type": "code",
   "execution_count": 8,
   "metadata": {
    "colab": {
     "autoexec": {
      "startup": false,
      "wait_interval": 0
     }
    },
    "colab_type": "code",
    "collapsed": true,
    "id": "hmkX1h_XUWLf"
   },
   "outputs": [],
   "source": [
    "# Create a link to the JSON file through the filepath\n",
    "json_link = r'C:\\Users\\Jenny\\Documents\\CSUS Computer Science\\Spring 2018\\CSC 177\\Final Project\\full_format_recipes.json'\n",
    "# Load and read the JSON file into a dataframe\n",
    "recipe_df = pd.read_json(json_link, orient='columns')"
   ]
  },
  {
   "cell_type": "code",
   "execution_count": 9,
   "metadata": {
    "colab": {
     "autoexec": {
      "startup": false,
      "wait_interval": 0
     }
    },
    "colab_type": "code",
    "collapsed": true,
    "id": "tZCR5zCsUWLq"
   },
   "outputs": [],
   "source": [
    "filename = r'C:\\Users\\Jenny\\Documents\\CSUS Computer Science\\Spring 2018\\CSC 177\\Final Project\\recipe_list.csv'"
   ]
  },
  {
   "cell_type": "code",
   "execution_count": 10,
   "metadata": {
    "colab": {
     "autoexec": {
      "startup": false,
      "wait_interval": 0
     }
    },
    "colab_type": "code",
    "collapsed": true,
    "id": "IJnZ-zrLUWLz"
   },
   "outputs": [],
   "source": [
    "recipe_df.to_csv(filename)"
   ]
  },
  {
   "cell_type": "code",
   "execution_count": 11,
   "metadata": {
    "colab": {
     "autoexec": {
      "startup": false,
      "wait_interval": 0
     }
    },
    "colab_type": "code",
    "id": "ZH_SSBgqUWL_",
    "outputId": "fd08c785-0fb7-47b7-be48-2fec190f31b9"
   },
   "outputs": [
    {
     "data": {
      "text/plain": [
       "(20130, 11)"
      ]
     },
     "execution_count": 11,
     "metadata": {},
     "output_type": "execute_result"
    }
   ],
   "source": [
    "recipe_df.shape"
   ]
  },
  {
   "cell_type": "code",
   "execution_count": 12,
   "metadata": {
    "colab": {
     "autoexec": {
      "startup": false,
      "wait_interval": 0
     },
     "base_uri": "https://localhost:8080/",
     "height": 162
    },
    "colab_type": "code",
    "executionInfo": {
     "elapsed": 736,
     "status": "error",
     "timestamp": 1525070470436,
     "user": {
      "displayName": "Jenny Yao",
      "photoUrl": "//lh6.googleusercontent.com/-7slFnHGa3GM/AAAAAAAAAAI/AAAAAAAADw8/eoXxslg5DJE/s50-c-k-no/photo.jpg",
      "userId": "116728134215668822228"
     },
     "user_tz": 420
    },
    "id": "11ocSWhOUWMR",
    "outputId": "e8025342-34bf-45ce-b266-458cc046a4fc"
   },
   "outputs": [
    {
     "data": {
      "text/html": [
       "<div>\n",
       "<style>\n",
       "    .dataframe thead tr:only-child th {\n",
       "        text-align: right;\n",
       "    }\n",
       "\n",
       "    .dataframe thead th {\n",
       "        text-align: left;\n",
       "    }\n",
       "\n",
       "    .dataframe tbody tr th {\n",
       "        vertical-align: top;\n",
       "    }\n",
       "</style>\n",
       "<table border=\"1\" class=\"dataframe\">\n",
       "  <thead>\n",
       "    <tr style=\"text-align: right;\">\n",
       "      <th></th>\n",
       "      <th>calories</th>\n",
       "      <th>categories</th>\n",
       "      <th>date</th>\n",
       "      <th>desc</th>\n",
       "      <th>directions</th>\n",
       "      <th>fat</th>\n",
       "      <th>ingredients</th>\n",
       "      <th>protein</th>\n",
       "      <th>rating</th>\n",
       "      <th>sodium</th>\n",
       "      <th>title</th>\n",
       "    </tr>\n",
       "  </thead>\n",
       "  <tbody>\n",
       "    <tr>\n",
       "      <th>0</th>\n",
       "      <td>426.0</td>\n",
       "      <td>[Sandwich, Bean, Fruit, Tomato, turkey, Vegeta...</td>\n",
       "      <td>2006-09-01 04:00:00</td>\n",
       "      <td>None</td>\n",
       "      <td>[1. Place the stock, lentils, celery, carrot, ...</td>\n",
       "      <td>7.0</td>\n",
       "      <td>[4 cups low-sodium vegetable or chicken stock,...</td>\n",
       "      <td>30.0</td>\n",
       "      <td>2.500</td>\n",
       "      <td>559.0</td>\n",
       "      <td>Lentil, Apple, and Turkey Wrap</td>\n",
       "    </tr>\n",
       "    <tr>\n",
       "      <th>1</th>\n",
       "      <td>403.0</td>\n",
       "      <td>[Food Processor, Onion, Pork, Bake, Bastille D...</td>\n",
       "      <td>2004-08-20 04:00:00</td>\n",
       "      <td>This uses the same ingredients found in boudin...</td>\n",
       "      <td>[Combine first 9 ingredients in heavy medium s...</td>\n",
       "      <td>23.0</td>\n",
       "      <td>[1 1/2 cups whipping cream, 2 medium onions, c...</td>\n",
       "      <td>18.0</td>\n",
       "      <td>4.375</td>\n",
       "      <td>1439.0</td>\n",
       "      <td>Boudin Blanc Terrine with Red Onion Confit</td>\n",
       "    </tr>\n",
       "    <tr>\n",
       "      <th>2</th>\n",
       "      <td>165.0</td>\n",
       "      <td>[Soup/Stew, Dairy, Potato, Vegetable, Fennel, ...</td>\n",
       "      <td>2004-08-20 04:00:00</td>\n",
       "      <td>None</td>\n",
       "      <td>[In a large heavy saucepan cook diced fennel a...</td>\n",
       "      <td>7.0</td>\n",
       "      <td>[1 fennel bulb (sometimes called anise), stalk...</td>\n",
       "      <td>6.0</td>\n",
       "      <td>3.750</td>\n",
       "      <td>165.0</td>\n",
       "      <td>Potato and Fennel Soup Hodge</td>\n",
       "    </tr>\n",
       "    <tr>\n",
       "      <th>3</th>\n",
       "      <td>NaN</td>\n",
       "      <td>[Fish, Olive, Tomato, Sauté, Low Fat, Low Cal,...</td>\n",
       "      <td>2009-03-27 04:00:00</td>\n",
       "      <td>The Sicilian-style tomato sauce has tons of Me...</td>\n",
       "      <td>[Heat oil in heavy large skillet over medium-h...</td>\n",
       "      <td>NaN</td>\n",
       "      <td>[2 tablespoons extra-virgin olive oil, 1 cup c...</td>\n",
       "      <td>NaN</td>\n",
       "      <td>5.000</td>\n",
       "      <td>NaN</td>\n",
       "      <td>Mahi-Mahi in Tomato Olive Sauce</td>\n",
       "    </tr>\n",
       "    <tr>\n",
       "      <th>4</th>\n",
       "      <td>547.0</td>\n",
       "      <td>[Cheese, Dairy, Pasta, Vegetable, Side, Bake, ...</td>\n",
       "      <td>2004-08-20 04:00:00</td>\n",
       "      <td>None</td>\n",
       "      <td>[Preheat oven to 350°F. Lightly grease 8x8x2-i...</td>\n",
       "      <td>32.0</td>\n",
       "      <td>[1 12-ounce package frozen spinach soufflé, th...</td>\n",
       "      <td>20.0</td>\n",
       "      <td>3.125</td>\n",
       "      <td>452.0</td>\n",
       "      <td>Spinach Noodle Casserole</td>\n",
       "    </tr>\n",
       "    <tr>\n",
       "      <th>5</th>\n",
       "      <td>948.0</td>\n",
       "      <td>[Sandwich, Food Processor, Tomato, Kid-Friendl...</td>\n",
       "      <td>2004-08-20 04:00:00</td>\n",
       "      <td>This recipe can be prepared in 45 minutes or l...</td>\n",
       "      <td>[Mix basil, mayonnaise and butter in processor...</td>\n",
       "      <td>79.0</td>\n",
       "      <td>[2 1/2 cups (lightly packed) fresh basil leave...</td>\n",
       "      <td>19.0</td>\n",
       "      <td>4.375</td>\n",
       "      <td>1042.0</td>\n",
       "      <td>The Best Blts</td>\n",
       "    </tr>\n",
       "    <tr>\n",
       "      <th>6</th>\n",
       "      <td>NaN</td>\n",
       "      <td>[Salad, Potato, Side, Easter, Low Fat, Quick &amp;...</td>\n",
       "      <td>2004-08-20 04:00:00</td>\n",
       "      <td>Serve this newfangled main-course salad with a...</td>\n",
       "      <td>[Cook potatoes and carrots in large pot of boi...</td>\n",
       "      <td>NaN</td>\n",
       "      <td>[1 1/2 pounds small red-skinned potatoes, each...</td>\n",
       "      <td>NaN</td>\n",
       "      <td>4.375</td>\n",
       "      <td>NaN</td>\n",
       "      <td>Ham and Spring Vegetable Salad with Shallot Vi...</td>\n",
       "    </tr>\n",
       "    <tr>\n",
       "      <th>7</th>\n",
       "      <td>NaN</td>\n",
       "      <td>[Egg, Fruit, No-Cook, Cocktail Party, Vegetari...</td>\n",
       "      <td>2004-08-20 04:00:00</td>\n",
       "      <td>Pop one of these in your mouth for a burst of ...</td>\n",
       "      <td>[Stir together sugar and chili powder. Whisk e...</td>\n",
       "      <td>NaN</td>\n",
       "      <td>[6 tablespoons granulated sugar, 1 1/2 tablesp...</td>\n",
       "      <td>NaN</td>\n",
       "      <td>3.750</td>\n",
       "      <td>NaN</td>\n",
       "      <td>Spicy-Sweet Kumquats</td>\n",
       "    </tr>\n",
       "    <tr>\n",
       "      <th>8</th>\n",
       "      <td>170.0</td>\n",
       "      <td>[Beef, Ginger, Sauté, Stir-Fry, Quick &amp; Easy, ...</td>\n",
       "      <td>2004-08-20 04:00:00</td>\n",
       "      <td>Bulgogi</td>\n",
       "      <td>[Stir together soy sauce, sugar, sesame oil, w...</td>\n",
       "      <td>10.0</td>\n",
       "      <td>[1/4 cup soy sauce, 1 tablespoon sugar, 2 teas...</td>\n",
       "      <td>7.0</td>\n",
       "      <td>4.375</td>\n",
       "      <td>1272.0</td>\n",
       "      <td>Korean Marinated Beef</td>\n",
       "    </tr>\n",
       "    <tr>\n",
       "      <th>9</th>\n",
       "      <td>602.0</td>\n",
       "      <td>[Salad, Mustard, Potato, Picnic, Lunch, Mayonn...</td>\n",
       "      <td>2008-10-23 22:24:26</td>\n",
       "      <td>Transform your picnic into un pique-nique to r...</td>\n",
       "      <td>[Chop enough parsley leaves to measure 1 table...</td>\n",
       "      <td>41.0</td>\n",
       "      <td>[6 long parsley sprigs, divided, 1 3/4 cups re...</td>\n",
       "      <td>23.0</td>\n",
       "      <td>3.750</td>\n",
       "      <td>1696.0</td>\n",
       "      <td>Ham Persillade with Mustard Potato Salad and M...</td>\n",
       "    </tr>\n",
       "    <tr>\n",
       "      <th>10</th>\n",
       "      <td>256.0</td>\n",
       "      <td>[Milk/Cream, Dairy, Side, Thanksgiving, Rosema...</td>\n",
       "      <td>2004-08-20 04:00:00</td>\n",
       "      <td>Simmering the yams fills them with flavor and ...</td>\n",
       "      <td>[Heat oil in heavy large skillet over medium-h...</td>\n",
       "      <td>5.0</td>\n",
       "      <td>[4 teaspoons olive oil, 1/2 cup finely chopped...</td>\n",
       "      <td>4.0</td>\n",
       "      <td>3.750</td>\n",
       "      <td>30.0</td>\n",
       "      <td>Yams Braised with Cream, Rosemary and Nutmeg</td>\n",
       "    </tr>\n",
       "    <tr>\n",
       "      <th>11</th>\n",
       "      <td>NaN</td>\n",
       "      <td>[Soup/Stew, Chicken, Garlic, Ginger, Pepper, B...</td>\n",
       "      <td>2004-08-20 04:00:00</td>\n",
       "      <td>(Tony Tan's Laksa Lemak)</td>\n",
       "      <td>[Preheat oven to 300°F., Wrap blacan tightly i...</td>\n",
       "      <td>NaN</td>\n",
       "      <td>[11/2 teaspoons blacan (shrimp paste), 2 thick...</td>\n",
       "      <td>NaN</td>\n",
       "      <td>4.375</td>\n",
       "      <td>NaN</td>\n",
       "      <td>Spicy Noodle Soup</td>\n",
       "    </tr>\n",
       "    <tr>\n",
       "      <th>12</th>\n",
       "      <td>766.0</td>\n",
       "      <td>[Cake, Chocolate, Fruit, Dessert, Bake, Kid-Fr...</td>\n",
       "      <td>2012-09-18 04:00:00</td>\n",
       "      <td>This cake is perfect for beginners—it's moist,...</td>\n",
       "      <td>[Preheat oven to 350°F. Coat cake pans with no...</td>\n",
       "      <td>48.0</td>\n",
       "      <td>[Nonstick vegetable oil spray, 3 cups all-purp...</td>\n",
       "      <td>12.0</td>\n",
       "      <td>4.375</td>\n",
       "      <td>439.0</td>\n",
       "      <td>Banana-Chocolate Chip Cake With Peanut Butter ...</td>\n",
       "    </tr>\n",
       "    <tr>\n",
       "      <th>13</th>\n",
       "      <td>174.0</td>\n",
       "      <td>[Garlic, Sauté, Low Carb, Quick &amp; Easy, Wheat/...</td>\n",
       "      <td>2004-08-20 04:00:00</td>\n",
       "      <td>This recipe can be prepared in 45 minutes or l...</td>\n",
       "      <td>[Sprinkle steaks with salt and pepper. Heat oi...</td>\n",
       "      <td>12.0</td>\n",
       "      <td>[4 6- to 7-ounce beef tenderloin steaks (each ...</td>\n",
       "      <td>11.0</td>\n",
       "      <td>4.375</td>\n",
       "      <td>176.0</td>\n",
       "      <td>Beef Tenderloin with Garlic and Brandy</td>\n",
       "    </tr>\n",
       "    <tr>\n",
       "      <th>14</th>\n",
       "      <td>134.0</td>\n",
       "      <td>[Sauce, Mustard, Peach, Chive, Bon Appétit]</td>\n",
       "      <td>2014-06-17 04:00:00</td>\n",
       "      <td>Where a chutney and mustard sauce overlap. Cho...</td>\n",
       "      <td>[Using the tip of a paring knife, score an X i...</td>\n",
       "      <td>3.0</td>\n",
       "      <td>[1 large ripe peach, 2 tablespoons sugar, 1 te...</td>\n",
       "      <td>4.0</td>\n",
       "      <td>3.125</td>\n",
       "      <td>1394.0</td>\n",
       "      <td>Peach Mustard</td>\n",
       "    </tr>\n",
       "  </tbody>\n",
       "</table>\n",
       "</div>"
      ],
      "text/plain": [
       "    calories                                         categories  \\\n",
       "0      426.0  [Sandwich, Bean, Fruit, Tomato, turkey, Vegeta...   \n",
       "1      403.0  [Food Processor, Onion, Pork, Bake, Bastille D...   \n",
       "2      165.0  [Soup/Stew, Dairy, Potato, Vegetable, Fennel, ...   \n",
       "3        NaN  [Fish, Olive, Tomato, Sauté, Low Fat, Low Cal,...   \n",
       "4      547.0  [Cheese, Dairy, Pasta, Vegetable, Side, Bake, ...   \n",
       "5      948.0  [Sandwich, Food Processor, Tomato, Kid-Friendl...   \n",
       "6        NaN  [Salad, Potato, Side, Easter, Low Fat, Quick &...   \n",
       "7        NaN  [Egg, Fruit, No-Cook, Cocktail Party, Vegetari...   \n",
       "8      170.0  [Beef, Ginger, Sauté, Stir-Fry, Quick & Easy, ...   \n",
       "9      602.0  [Salad, Mustard, Potato, Picnic, Lunch, Mayonn...   \n",
       "10     256.0  [Milk/Cream, Dairy, Side, Thanksgiving, Rosema...   \n",
       "11       NaN  [Soup/Stew, Chicken, Garlic, Ginger, Pepper, B...   \n",
       "12     766.0  [Cake, Chocolate, Fruit, Dessert, Bake, Kid-Fr...   \n",
       "13     174.0  [Garlic, Sauté, Low Carb, Quick & Easy, Wheat/...   \n",
       "14     134.0        [Sauce, Mustard, Peach, Chive, Bon Appétit]   \n",
       "\n",
       "                  date                                               desc  \\\n",
       "0  2006-09-01 04:00:00                                               None   \n",
       "1  2004-08-20 04:00:00  This uses the same ingredients found in boudin...   \n",
       "2  2004-08-20 04:00:00                                               None   \n",
       "3  2009-03-27 04:00:00  The Sicilian-style tomato sauce has tons of Me...   \n",
       "4  2004-08-20 04:00:00                                               None   \n",
       "5  2004-08-20 04:00:00  This recipe can be prepared in 45 minutes or l...   \n",
       "6  2004-08-20 04:00:00  Serve this newfangled main-course salad with a...   \n",
       "7  2004-08-20 04:00:00  Pop one of these in your mouth for a burst of ...   \n",
       "8  2004-08-20 04:00:00                                            Bulgogi   \n",
       "9  2008-10-23 22:24:26  Transform your picnic into un pique-nique to r...   \n",
       "10 2004-08-20 04:00:00  Simmering the yams fills them with flavor and ...   \n",
       "11 2004-08-20 04:00:00                           (Tony Tan's Laksa Lemak)   \n",
       "12 2012-09-18 04:00:00  This cake is perfect for beginners—it's moist,...   \n",
       "13 2004-08-20 04:00:00  This recipe can be prepared in 45 minutes or l...   \n",
       "14 2014-06-17 04:00:00  Where a chutney and mustard sauce overlap. Cho...   \n",
       "\n",
       "                                           directions   fat  \\\n",
       "0   [1. Place the stock, lentils, celery, carrot, ...   7.0   \n",
       "1   [Combine first 9 ingredients in heavy medium s...  23.0   \n",
       "2   [In a large heavy saucepan cook diced fennel a...   7.0   \n",
       "3   [Heat oil in heavy large skillet over medium-h...   NaN   \n",
       "4   [Preheat oven to 350°F. Lightly grease 8x8x2-i...  32.0   \n",
       "5   [Mix basil, mayonnaise and butter in processor...  79.0   \n",
       "6   [Cook potatoes and carrots in large pot of boi...   NaN   \n",
       "7   [Stir together sugar and chili powder. Whisk e...   NaN   \n",
       "8   [Stir together soy sauce, sugar, sesame oil, w...  10.0   \n",
       "9   [Chop enough parsley leaves to measure 1 table...  41.0   \n",
       "10  [Heat oil in heavy large skillet over medium-h...   5.0   \n",
       "11  [Preheat oven to 300°F., Wrap blacan tightly i...   NaN   \n",
       "12  [Preheat oven to 350°F. Coat cake pans with no...  48.0   \n",
       "13  [Sprinkle steaks with salt and pepper. Heat oi...  12.0   \n",
       "14  [Using the tip of a paring knife, score an X i...   3.0   \n",
       "\n",
       "                                          ingredients  protein  rating  \\\n",
       "0   [4 cups low-sodium vegetable or chicken stock,...     30.0   2.500   \n",
       "1   [1 1/2 cups whipping cream, 2 medium onions, c...     18.0   4.375   \n",
       "2   [1 fennel bulb (sometimes called anise), stalk...      6.0   3.750   \n",
       "3   [2 tablespoons extra-virgin olive oil, 1 cup c...      NaN   5.000   \n",
       "4   [1 12-ounce package frozen spinach soufflé, th...     20.0   3.125   \n",
       "5   [2 1/2 cups (lightly packed) fresh basil leave...     19.0   4.375   \n",
       "6   [1 1/2 pounds small red-skinned potatoes, each...      NaN   4.375   \n",
       "7   [6 tablespoons granulated sugar, 1 1/2 tablesp...      NaN   3.750   \n",
       "8   [1/4 cup soy sauce, 1 tablespoon sugar, 2 teas...      7.0   4.375   \n",
       "9   [6 long parsley sprigs, divided, 1 3/4 cups re...     23.0   3.750   \n",
       "10  [4 teaspoons olive oil, 1/2 cup finely chopped...      4.0   3.750   \n",
       "11  [11/2 teaspoons blacan (shrimp paste), 2 thick...      NaN   4.375   \n",
       "12  [Nonstick vegetable oil spray, 3 cups all-purp...     12.0   4.375   \n",
       "13  [4 6- to 7-ounce beef tenderloin steaks (each ...     11.0   4.375   \n",
       "14  [1 large ripe peach, 2 tablespoons sugar, 1 te...      4.0   3.125   \n",
       "\n",
       "    sodium                                              title  \n",
       "0    559.0                    Lentil, Apple, and Turkey Wrap   \n",
       "1   1439.0        Boudin Blanc Terrine with Red Onion Confit   \n",
       "2    165.0                      Potato and Fennel Soup Hodge   \n",
       "3      NaN                   Mahi-Mahi in Tomato Olive Sauce   \n",
       "4    452.0                          Spinach Noodle Casserole   \n",
       "5   1042.0                                     The Best Blts   \n",
       "6      NaN  Ham and Spring Vegetable Salad with Shallot Vi...  \n",
       "7      NaN                              Spicy-Sweet Kumquats   \n",
       "8   1272.0                             Korean Marinated Beef   \n",
       "9   1696.0  Ham Persillade with Mustard Potato Salad and M...  \n",
       "10    30.0      Yams Braised with Cream, Rosemary and Nutmeg   \n",
       "11     NaN                                 Spicy Noodle Soup   \n",
       "12   439.0  Banana-Chocolate Chip Cake With Peanut Butter ...  \n",
       "13   176.0            Beef Tenderloin with Garlic and Brandy   \n",
       "14  1394.0                                     Peach Mustard   "
      ]
     },
     "execution_count": 12,
     "metadata": {},
     "output_type": "execute_result"
    }
   ],
   "source": [
    "recipe_df.head(15)"
   ]
  },
  {
   "cell_type": "markdown",
   "metadata": {
    "colab_type": "text",
    "id": "1e5hqVS4UWMd"
   },
   "source": [
    "### Step 2: Prune the Data\n",
    "Remove all recipes where no data info exists in at least one of the features: calories, protein, fat or sodium"
   ]
  },
  {
   "cell_type": "code",
   "execution_count": 13,
   "metadata": {
    "colab": {
     "autoexec": {
      "startup": false,
      "wait_interval": 0
     }
    },
    "colab_type": "code",
    "collapsed": true,
    "id": "v1UnBaDvUWMf"
   },
   "outputs": [],
   "source": [
    "recipe_df.dropna(subset=['calories','protein','fat','sodium'], inplace=True)"
   ]
  },
  {
   "cell_type": "code",
   "execution_count": 14,
   "metadata": {
    "colab": {
     "autoexec": {
      "startup": false,
      "wait_interval": 0
     }
    },
    "colab_type": "code",
    "id": "Va5TrWrnUWMj",
    "outputId": "26139abb-c19b-42cd-8e75-13b5345914b8"
   },
   "outputs": [
    {
     "data": {
      "text/plain": [
       "(15903, 11)"
      ]
     },
     "execution_count": 14,
     "metadata": {},
     "output_type": "execute_result"
    }
   ],
   "source": [
    "recipe_df.shape"
   ]
  },
  {
   "cell_type": "markdown",
   "metadata": {
    "colab_type": "text",
    "id": "aCjpHzWVUWMr"
   },
   "source": [
    "### Step 3: Add new column \"Healthy\" as the ground truth "
   ]
  },
  {
   "cell_type": "code",
   "execution_count": 15,
   "metadata": {
    "colab": {
     "autoexec": {
      "startup": false,
      "wait_interval": 0
     }
    },
    "colab_type": "code",
    "collapsed": true,
    "id": "TnKP8a0ZUWMw"
   },
   "outputs": [],
   "source": [
    "mask = recipe_df.categories.apply(lambda x: 'Healthy' in x)"
   ]
  },
  {
   "cell_type": "code",
   "execution_count": 16,
   "metadata": {
    "colab": {
     "autoexec": {
      "startup": false,
      "wait_interval": 0
     }
    },
    "colab_type": "code",
    "id": "3x2HDR8SUWNF",
    "outputId": "5f3c2cd8-2d7c-4566-ab17-bd5a970bac5e"
   },
   "outputs": [
    {
     "name": "stdout",
     "output_type": "stream",
     "text": [
      "0        False\n",
      "1        False\n",
      "2        False\n",
      "4        False\n",
      "5        False\n",
      "8        False\n",
      "9        False\n",
      "10       False\n",
      "12       False\n",
      "13       False\n",
      "14       False\n",
      "15        True\n",
      "16       False\n",
      "17       False\n",
      "18       False\n",
      "19       False\n",
      "20       False\n",
      "24       False\n",
      "25       False\n",
      "26       False\n",
      "27        True\n",
      "28       False\n",
      "29       False\n",
      "32       False\n",
      "33       False\n",
      "35       False\n",
      "37       False\n",
      "38       False\n",
      "39       False\n",
      "40       False\n",
      "         ...  \n",
      "20097    False\n",
      "20098    False\n",
      "20099    False\n",
      "20100    False\n",
      "20101     True\n",
      "20102    False\n",
      "20103    False\n",
      "20105    False\n",
      "20106    False\n",
      "20107    False\n",
      "20108    False\n",
      "20109    False\n",
      "20110    False\n",
      "20111    False\n",
      "20112    False\n",
      "20114    False\n",
      "20115    False\n",
      "20116    False\n",
      "20117    False\n",
      "20118    False\n",
      "20119    False\n",
      "20121    False\n",
      "20122    False\n",
      "20123    False\n",
      "20124    False\n",
      "20125    False\n",
      "20126    False\n",
      "20127    False\n",
      "20128    False\n",
      "20129    False\n",
      "Name: categories, Length: 15903, dtype: bool\n"
     ]
    }
   ],
   "source": [
    "print(mask)"
   ]
  },
  {
   "cell_type": "code",
   "execution_count": 17,
   "metadata": {
    "colab": {
     "autoexec": {
      "startup": false,
      "wait_interval": 0
     }
    },
    "colab_type": "code",
    "collapsed": true,
    "id": "6R2yMOEDUWNQ"
   },
   "outputs": [],
   "source": [
    "recipe_df['Healthy'] = mask"
   ]
  },
  {
   "cell_type": "code",
   "execution_count": 18,
   "metadata": {
    "colab": {
     "autoexec": {
      "startup": false,
      "wait_interval": 0
     }
    },
    "colab_type": "code",
    "id": "kEkFHokRUWNW",
    "outputId": "76c5d87e-02b4-4133-95f5-70f87b3ca612"
   },
   "outputs": [
    {
     "data": {
      "text/html": [
       "<div>\n",
       "<style>\n",
       "    .dataframe thead tr:only-child th {\n",
       "        text-align: right;\n",
       "    }\n",
       "\n",
       "    .dataframe thead th {\n",
       "        text-align: left;\n",
       "    }\n",
       "\n",
       "    .dataframe tbody tr th {\n",
       "        vertical-align: top;\n",
       "    }\n",
       "</style>\n",
       "<table border=\"1\" class=\"dataframe\">\n",
       "  <thead>\n",
       "    <tr style=\"text-align: right;\">\n",
       "      <th></th>\n",
       "      <th>calories</th>\n",
       "      <th>categories</th>\n",
       "      <th>date</th>\n",
       "      <th>desc</th>\n",
       "      <th>directions</th>\n",
       "      <th>fat</th>\n",
       "      <th>ingredients</th>\n",
       "      <th>protein</th>\n",
       "      <th>rating</th>\n",
       "      <th>sodium</th>\n",
       "      <th>title</th>\n",
       "      <th>Healthy</th>\n",
       "    </tr>\n",
       "  </thead>\n",
       "  <tbody>\n",
       "    <tr>\n",
       "      <th>0</th>\n",
       "      <td>426.0</td>\n",
       "      <td>[Sandwich, Bean, Fruit, Tomato, turkey, Vegeta...</td>\n",
       "      <td>2006-09-01 04:00:00</td>\n",
       "      <td>None</td>\n",
       "      <td>[1. Place the stock, lentils, celery, carrot, ...</td>\n",
       "      <td>7.0</td>\n",
       "      <td>[4 cups low-sodium vegetable or chicken stock,...</td>\n",
       "      <td>30.0</td>\n",
       "      <td>2.500</td>\n",
       "      <td>559.0</td>\n",
       "      <td>Lentil, Apple, and Turkey Wrap</td>\n",
       "      <td>False</td>\n",
       "    </tr>\n",
       "    <tr>\n",
       "      <th>1</th>\n",
       "      <td>403.0</td>\n",
       "      <td>[Food Processor, Onion, Pork, Bake, Bastille D...</td>\n",
       "      <td>2004-08-20 04:00:00</td>\n",
       "      <td>This uses the same ingredients found in boudin...</td>\n",
       "      <td>[Combine first 9 ingredients in heavy medium s...</td>\n",
       "      <td>23.0</td>\n",
       "      <td>[1 1/2 cups whipping cream, 2 medium onions, c...</td>\n",
       "      <td>18.0</td>\n",
       "      <td>4.375</td>\n",
       "      <td>1439.0</td>\n",
       "      <td>Boudin Blanc Terrine with Red Onion Confit</td>\n",
       "      <td>False</td>\n",
       "    </tr>\n",
       "    <tr>\n",
       "      <th>2</th>\n",
       "      <td>165.0</td>\n",
       "      <td>[Soup/Stew, Dairy, Potato, Vegetable, Fennel, ...</td>\n",
       "      <td>2004-08-20 04:00:00</td>\n",
       "      <td>None</td>\n",
       "      <td>[In a large heavy saucepan cook diced fennel a...</td>\n",
       "      <td>7.0</td>\n",
       "      <td>[1 fennel bulb (sometimes called anise), stalk...</td>\n",
       "      <td>6.0</td>\n",
       "      <td>3.750</td>\n",
       "      <td>165.0</td>\n",
       "      <td>Potato and Fennel Soup Hodge</td>\n",
       "      <td>False</td>\n",
       "    </tr>\n",
       "    <tr>\n",
       "      <th>4</th>\n",
       "      <td>547.0</td>\n",
       "      <td>[Cheese, Dairy, Pasta, Vegetable, Side, Bake, ...</td>\n",
       "      <td>2004-08-20 04:00:00</td>\n",
       "      <td>None</td>\n",
       "      <td>[Preheat oven to 350°F. Lightly grease 8x8x2-i...</td>\n",
       "      <td>32.0</td>\n",
       "      <td>[1 12-ounce package frozen spinach soufflé, th...</td>\n",
       "      <td>20.0</td>\n",
       "      <td>3.125</td>\n",
       "      <td>452.0</td>\n",
       "      <td>Spinach Noodle Casserole</td>\n",
       "      <td>False</td>\n",
       "    </tr>\n",
       "    <tr>\n",
       "      <th>5</th>\n",
       "      <td>948.0</td>\n",
       "      <td>[Sandwich, Food Processor, Tomato, Kid-Friendl...</td>\n",
       "      <td>2004-08-20 04:00:00</td>\n",
       "      <td>This recipe can be prepared in 45 minutes or l...</td>\n",
       "      <td>[Mix basil, mayonnaise and butter in processor...</td>\n",
       "      <td>79.0</td>\n",
       "      <td>[2 1/2 cups (lightly packed) fresh basil leave...</td>\n",
       "      <td>19.0</td>\n",
       "      <td>4.375</td>\n",
       "      <td>1042.0</td>\n",
       "      <td>The Best Blts</td>\n",
       "      <td>False</td>\n",
       "    </tr>\n",
       "  </tbody>\n",
       "</table>\n",
       "</div>"
      ],
      "text/plain": [
       "   calories                                         categories  \\\n",
       "0     426.0  [Sandwich, Bean, Fruit, Tomato, turkey, Vegeta...   \n",
       "1     403.0  [Food Processor, Onion, Pork, Bake, Bastille D...   \n",
       "2     165.0  [Soup/Stew, Dairy, Potato, Vegetable, Fennel, ...   \n",
       "4     547.0  [Cheese, Dairy, Pasta, Vegetable, Side, Bake, ...   \n",
       "5     948.0  [Sandwich, Food Processor, Tomato, Kid-Friendl...   \n",
       "\n",
       "                 date                                               desc  \\\n",
       "0 2006-09-01 04:00:00                                               None   \n",
       "1 2004-08-20 04:00:00  This uses the same ingredients found in boudin...   \n",
       "2 2004-08-20 04:00:00                                               None   \n",
       "4 2004-08-20 04:00:00                                               None   \n",
       "5 2004-08-20 04:00:00  This recipe can be prepared in 45 minutes or l...   \n",
       "\n",
       "                                          directions   fat  \\\n",
       "0  [1. Place the stock, lentils, celery, carrot, ...   7.0   \n",
       "1  [Combine first 9 ingredients in heavy medium s...  23.0   \n",
       "2  [In a large heavy saucepan cook diced fennel a...   7.0   \n",
       "4  [Preheat oven to 350°F. Lightly grease 8x8x2-i...  32.0   \n",
       "5  [Mix basil, mayonnaise and butter in processor...  79.0   \n",
       "\n",
       "                                         ingredients  protein  rating  sodium  \\\n",
       "0  [4 cups low-sodium vegetable or chicken stock,...     30.0   2.500   559.0   \n",
       "1  [1 1/2 cups whipping cream, 2 medium onions, c...     18.0   4.375  1439.0   \n",
       "2  [1 fennel bulb (sometimes called anise), stalk...      6.0   3.750   165.0   \n",
       "4  [1 12-ounce package frozen spinach soufflé, th...     20.0   3.125   452.0   \n",
       "5  [2 1/2 cups (lightly packed) fresh basil leave...     19.0   4.375  1042.0   \n",
       "\n",
       "                                         title  Healthy  \n",
       "0              Lentil, Apple, and Turkey Wrap     False  \n",
       "1  Boudin Blanc Terrine with Red Onion Confit     False  \n",
       "2                Potato and Fennel Soup Hodge     False  \n",
       "4                    Spinach Noodle Casserole     False  \n",
       "5                               The Best Blts     False  "
      ]
     },
     "execution_count": 18,
     "metadata": {},
     "output_type": "execute_result"
    }
   ],
   "source": [
    "recipe_df.head()"
   ]
  },
  {
   "cell_type": "markdown",
   "metadata": {
    "colab_type": "text",
    "id": "zL4HJV_nUWNc"
   },
   "source": [
    "### Step 4: Convert the ingredients from list to string"
   ]
  },
  {
   "cell_type": "code",
   "execution_count": 19,
   "metadata": {
    "colab": {
     "autoexec": {
      "startup": false,
      "wait_interval": 0
     }
    },
    "colab_type": "code",
    "collapsed": true,
    "id": "2MYMYcHlUWNc"
   },
   "outputs": [],
   "source": [
    "recipe_df['ingredients_string'] = recipe_df['ingredients'].apply(' '.join)"
   ]
  },
  {
   "cell_type": "code",
   "execution_count": 20,
   "metadata": {
    "colab": {
     "autoexec": {
      "startup": false,
      "wait_interval": 0
     }
    },
    "colab_type": "code",
    "id": "shuEK6o2UWNg",
    "outputId": "70b465da-276b-4825-afbf-3c9e4db82a69"
   },
   "outputs": [
    {
     "data": {
      "text/plain": [
       "0     4 cups low-sodium vegetable or chicken stock 1...\n",
       "1     1 1/2 cups whipping cream 2 medium onions, cho...\n",
       "2     1 fennel bulb (sometimes called anise), stalks...\n",
       "4     1 12-ounce package frozen spinach soufflé, tha...\n",
       "5     2 1/2 cups (lightly packed) fresh basil leaves...\n",
       "8     1/4 cup soy sauce 1 tablespoon sugar 2 teaspoo...\n",
       "9     6 long parsley sprigs, divided 1 3/4 cups redu...\n",
       "10    4 teaspoons olive oil 1/2 cup finely chopped s...\n",
       "12    Nonstick vegetable oil spray 3 cups all-purpos...\n",
       "13    4 6- to 7-ounce beef tenderloin steaks (each a...\n",
       "Name: ingredients_string, dtype: object"
      ]
     },
     "execution_count": 20,
     "metadata": {},
     "output_type": "execute_result"
    }
   ],
   "source": [
    "recipe_df['ingredients_string'].head(10)"
   ]
  },
  {
   "cell_type": "code",
   "execution_count": 21,
   "metadata": {
    "colab": {
     "autoexec": {
      "startup": false,
      "wait_interval": 0
     }
    },
    "colab_type": "code",
    "id": "fXsGuuztUWNj",
    "outputId": "3645110f-e173-42e9-b05d-cfa07dd731df"
   },
   "outputs": [
    {
     "data": {
      "text/html": [
       "<div>\n",
       "<style>\n",
       "    .dataframe thead tr:only-child th {\n",
       "        text-align: right;\n",
       "    }\n",
       "\n",
       "    .dataframe thead th {\n",
       "        text-align: left;\n",
       "    }\n",
       "\n",
       "    .dataframe tbody tr th {\n",
       "        vertical-align: top;\n",
       "    }\n",
       "</style>\n",
       "<table border=\"1\" class=\"dataframe\">\n",
       "  <thead>\n",
       "    <tr style=\"text-align: right;\">\n",
       "      <th></th>\n",
       "      <th>title</th>\n",
       "      <th>Healthy</th>\n",
       "    </tr>\n",
       "  </thead>\n",
       "  <tbody>\n",
       "    <tr>\n",
       "      <th>0</th>\n",
       "      <td>Lentil, Apple, and Turkey Wrap</td>\n",
       "      <td>False</td>\n",
       "    </tr>\n",
       "    <tr>\n",
       "      <th>1</th>\n",
       "      <td>Boudin Blanc Terrine with Red Onion Confit</td>\n",
       "      <td>False</td>\n",
       "    </tr>\n",
       "    <tr>\n",
       "      <th>2</th>\n",
       "      <td>Potato and Fennel Soup Hodge</td>\n",
       "      <td>False</td>\n",
       "    </tr>\n",
       "    <tr>\n",
       "      <th>4</th>\n",
       "      <td>Spinach Noodle Casserole</td>\n",
       "      <td>False</td>\n",
       "    </tr>\n",
       "    <tr>\n",
       "      <th>5</th>\n",
       "      <td>The Best Blts</td>\n",
       "      <td>False</td>\n",
       "    </tr>\n",
       "    <tr>\n",
       "      <th>8</th>\n",
       "      <td>Korean Marinated Beef</td>\n",
       "      <td>False</td>\n",
       "    </tr>\n",
       "    <tr>\n",
       "      <th>9</th>\n",
       "      <td>Ham Persillade with Mustard Potato Salad and M...</td>\n",
       "      <td>False</td>\n",
       "    </tr>\n",
       "    <tr>\n",
       "      <th>10</th>\n",
       "      <td>Yams Braised with Cream, Rosemary and Nutmeg</td>\n",
       "      <td>False</td>\n",
       "    </tr>\n",
       "    <tr>\n",
       "      <th>12</th>\n",
       "      <td>Banana-Chocolate Chip Cake With Peanut Butter ...</td>\n",
       "      <td>False</td>\n",
       "    </tr>\n",
       "    <tr>\n",
       "      <th>13</th>\n",
       "      <td>Beef Tenderloin with Garlic and Brandy</td>\n",
       "      <td>False</td>\n",
       "    </tr>\n",
       "    <tr>\n",
       "      <th>14</th>\n",
       "      <td>Peach Mustard</td>\n",
       "      <td>False</td>\n",
       "    </tr>\n",
       "    <tr>\n",
       "      <th>15</th>\n",
       "      <td>Raw Cream of Spinach Soup</td>\n",
       "      <td>True</td>\n",
       "    </tr>\n",
       "    <tr>\n",
       "      <th>16</th>\n",
       "      <td>Sweet Buttermilk Spoon Breads</td>\n",
       "      <td>False</td>\n",
       "    </tr>\n",
       "    <tr>\n",
       "      <th>17</th>\n",
       "      <td>Crisp Braised Pork Shoulder</td>\n",
       "      <td>False</td>\n",
       "    </tr>\n",
       "    <tr>\n",
       "      <th>18</th>\n",
       "      <td>Mozzarella-Topped Peppers with Tomatoes and Ga...</td>\n",
       "      <td>False</td>\n",
       "    </tr>\n",
       "    <tr>\n",
       "      <th>19</th>\n",
       "      <td>Tuna, Asparagus, and New Potato Salad with Chi...</td>\n",
       "      <td>False</td>\n",
       "    </tr>\n",
       "    <tr>\n",
       "      <th>20</th>\n",
       "      <td>Asian Pear and Watercress Salad with Sesame Dr...</td>\n",
       "      <td>False</td>\n",
       "    </tr>\n",
       "    <tr>\n",
       "      <th>24</th>\n",
       "      <td>Sea Salt-Roasted Pecans</td>\n",
       "      <td>False</td>\n",
       "    </tr>\n",
       "    <tr>\n",
       "      <th>25</th>\n",
       "      <td>Garlic Baguette Crumbs</td>\n",
       "      <td>False</td>\n",
       "    </tr>\n",
       "    <tr>\n",
       "      <th>26</th>\n",
       "      <td>Cucumber-Basil Egg Salad</td>\n",
       "      <td>False</td>\n",
       "    </tr>\n",
       "    <tr>\n",
       "      <th>27</th>\n",
       "      <td>Dried Pear Crisps</td>\n",
       "      <td>True</td>\n",
       "    </tr>\n",
       "    <tr>\n",
       "      <th>28</th>\n",
       "      <td>Green Bean, Red Onion, and Roast Potato Salad ...</td>\n",
       "      <td>False</td>\n",
       "    </tr>\n",
       "    <tr>\n",
       "      <th>29</th>\n",
       "      <td>Apricot-Cherry Shortcakes</td>\n",
       "      <td>False</td>\n",
       "    </tr>\n",
       "    <tr>\n",
       "      <th>32</th>\n",
       "      <td>Roasted Sweet-Potato Spears with Bacon Vinaigr...</td>\n",
       "      <td>False</td>\n",
       "    </tr>\n",
       "    <tr>\n",
       "      <th>33</th>\n",
       "      <td>Deviled Ham</td>\n",
       "      <td>False</td>\n",
       "    </tr>\n",
       "    <tr>\n",
       "      <th>35</th>\n",
       "      <td>Aztec Chicken</td>\n",
       "      <td>False</td>\n",
       "    </tr>\n",
       "    <tr>\n",
       "      <th>37</th>\n",
       "      <td>Sauteed Broccoli Rabe</td>\n",
       "      <td>False</td>\n",
       "    </tr>\n",
       "    <tr>\n",
       "      <th>38</th>\n",
       "      <td>Grouper with Tomato and Basil</td>\n",
       "      <td>False</td>\n",
       "    </tr>\n",
       "    <tr>\n",
       "      <th>39</th>\n",
       "      <td>Better-Than-Pita Grill Bread</td>\n",
       "      <td>False</td>\n",
       "    </tr>\n",
       "    <tr>\n",
       "      <th>40</th>\n",
       "      <td>Coconut-Key Lime Sheet Cake</td>\n",
       "      <td>False</td>\n",
       "    </tr>\n",
       "    <tr>\n",
       "      <th>...</th>\n",
       "      <td>...</td>\n",
       "      <td>...</td>\n",
       "    </tr>\n",
       "    <tr>\n",
       "      <th>20097</th>\n",
       "      <td>Spinach and Sorrel Spanakopita</td>\n",
       "      <td>False</td>\n",
       "    </tr>\n",
       "    <tr>\n",
       "      <th>20098</th>\n",
       "      <td>Wilted Red Cabbage and Bell Pepper Slaw</td>\n",
       "      <td>False</td>\n",
       "    </tr>\n",
       "    <tr>\n",
       "      <th>20099</th>\n",
       "      <td>Dill-Crusted Pork Tenderloin With Farro, Pea, ...</td>\n",
       "      <td>False</td>\n",
       "    </tr>\n",
       "    <tr>\n",
       "      <th>20100</th>\n",
       "      <td>Mussels in Cream Sauce</td>\n",
       "      <td>False</td>\n",
       "    </tr>\n",
       "    <tr>\n",
       "      <th>20101</th>\n",
       "      <td>Roasted and Raw Carrot Salad with Avocado and ...</td>\n",
       "      <td>True</td>\n",
       "    </tr>\n",
       "    <tr>\n",
       "      <th>20102</th>\n",
       "      <td>Cabbage Soup with Apples and Thyme</td>\n",
       "      <td>False</td>\n",
       "    </tr>\n",
       "    <tr>\n",
       "      <th>20103</th>\n",
       "      <td>Goat Cheese-Onion Naan with Mango Salsa</td>\n",
       "      <td>False</td>\n",
       "    </tr>\n",
       "    <tr>\n",
       "      <th>20105</th>\n",
       "      <td>Grilled Fillet of Beef with Tomato Ginger Vina...</td>\n",
       "      <td>False</td>\n",
       "    </tr>\n",
       "    <tr>\n",
       "      <th>20106</th>\n",
       "      <td>Roasted Red Pepper Butter</td>\n",
       "      <td>False</td>\n",
       "    </tr>\n",
       "    <tr>\n",
       "      <th>20107</th>\n",
       "      <td>White Miso Peach/Pear/Apple</td>\n",
       "      <td>False</td>\n",
       "    </tr>\n",
       "    <tr>\n",
       "      <th>20108</th>\n",
       "      <td>Lemon and Rosemary T-Bone Steaks</td>\n",
       "      <td>False</td>\n",
       "    </tr>\n",
       "    <tr>\n",
       "      <th>20109</th>\n",
       "      <td>3-Ingredient Caramel-Pear Galette</td>\n",
       "      <td>False</td>\n",
       "    </tr>\n",
       "    <tr>\n",
       "      <th>20110</th>\n",
       "      <td>4-3-2-1 Spice Rub</td>\n",
       "      <td>False</td>\n",
       "    </tr>\n",
       "    <tr>\n",
       "      <th>20111</th>\n",
       "      <td>Saffron Mayonnaise</td>\n",
       "      <td>False</td>\n",
       "    </tr>\n",
       "    <tr>\n",
       "      <th>20112</th>\n",
       "      <td>Potato Galettes with Crab, Shrimp, and Asparagus</td>\n",
       "      <td>False</td>\n",
       "    </tr>\n",
       "    <tr>\n",
       "      <th>20114</th>\n",
       "      <td>Maple Old-Fashioned</td>\n",
       "      <td>False</td>\n",
       "    </tr>\n",
       "    <tr>\n",
       "      <th>20115</th>\n",
       "      <td>Russian</td>\n",
       "      <td>False</td>\n",
       "    </tr>\n",
       "    <tr>\n",
       "      <th>20116</th>\n",
       "      <td>Shellfish Chowder with Fresh Thyme</td>\n",
       "      <td>False</td>\n",
       "    </tr>\n",
       "    <tr>\n",
       "      <th>20117</th>\n",
       "      <td>Cauliflower Purée</td>\n",
       "      <td>False</td>\n",
       "    </tr>\n",
       "    <tr>\n",
       "      <th>20118</th>\n",
       "      <td>Bacon-Wrapped Maple Pork Loin</td>\n",
       "      <td>False</td>\n",
       "    </tr>\n",
       "    <tr>\n",
       "      <th>20119</th>\n",
       "      <td>Chicken with White Wine and Herbs</td>\n",
       "      <td>False</td>\n",
       "    </tr>\n",
       "    <tr>\n",
       "      <th>20121</th>\n",
       "      <td>Crispy Salt and Pepper Chicken with Caramelize...</td>\n",
       "      <td>False</td>\n",
       "    </tr>\n",
       "    <tr>\n",
       "      <th>20122</th>\n",
       "      <td>Orange-Tini</td>\n",
       "      <td>False</td>\n",
       "    </tr>\n",
       "    <tr>\n",
       "      <th>20123</th>\n",
       "      <td>Blueberry Compote</td>\n",
       "      <td>False</td>\n",
       "    </tr>\n",
       "    <tr>\n",
       "      <th>20124</th>\n",
       "      <td>Chinese Barbecued Spareribs</td>\n",
       "      <td>False</td>\n",
       "    </tr>\n",
       "    <tr>\n",
       "      <th>20125</th>\n",
       "      <td>Parmesan Puffs</td>\n",
       "      <td>False</td>\n",
       "    </tr>\n",
       "    <tr>\n",
       "      <th>20126</th>\n",
       "      <td>Artichoke and Parmesan Risotto</td>\n",
       "      <td>False</td>\n",
       "    </tr>\n",
       "    <tr>\n",
       "      <th>20127</th>\n",
       "      <td>Turkey Cream Puff Pie</td>\n",
       "      <td>False</td>\n",
       "    </tr>\n",
       "    <tr>\n",
       "      <th>20128</th>\n",
       "      <td>Snapper on Angel Hair with Citrus Cream</td>\n",
       "      <td>False</td>\n",
       "    </tr>\n",
       "    <tr>\n",
       "      <th>20129</th>\n",
       "      <td>Baked Ham with Marmalade-Horseradish Glaze</td>\n",
       "      <td>False</td>\n",
       "    </tr>\n",
       "  </tbody>\n",
       "</table>\n",
       "<p>15903 rows × 2 columns</p>\n",
       "</div>"
      ],
      "text/plain": [
       "                                                   title  Healthy\n",
       "0                        Lentil, Apple, and Turkey Wrap     False\n",
       "1            Boudin Blanc Terrine with Red Onion Confit     False\n",
       "2                          Potato and Fennel Soup Hodge     False\n",
       "4                              Spinach Noodle Casserole     False\n",
       "5                                         The Best Blts     False\n",
       "8                                 Korean Marinated Beef     False\n",
       "9      Ham Persillade with Mustard Potato Salad and M...    False\n",
       "10         Yams Braised with Cream, Rosemary and Nutmeg     False\n",
       "12     Banana-Chocolate Chip Cake With Peanut Butter ...    False\n",
       "13               Beef Tenderloin with Garlic and Brandy     False\n",
       "14                                        Peach Mustard     False\n",
       "15                            Raw Cream of Spinach Soup      True\n",
       "16                        Sweet Buttermilk Spoon Breads     False\n",
       "17                          Crisp Braised Pork Shoulder     False\n",
       "18     Mozzarella-Topped Peppers with Tomatoes and Ga...    False\n",
       "19     Tuna, Asparagus, and New Potato Salad with Chi...    False\n",
       "20     Asian Pear and Watercress Salad with Sesame Dr...    False\n",
       "24                              Sea Salt-Roasted Pecans     False\n",
       "25                               Garlic Baguette Crumbs     False\n",
       "26                             Cucumber-Basil Egg Salad     False\n",
       "27                                    Dried Pear Crisps      True\n",
       "28     Green Bean, Red Onion, and Roast Potato Salad ...    False\n",
       "29                            Apricot-Cherry Shortcakes     False\n",
       "32     Roasted Sweet-Potato Spears with Bacon Vinaigr...    False\n",
       "33                                          Deviled Ham     False\n",
       "35                                        Aztec Chicken     False\n",
       "37                                Sauteed Broccoli Rabe     False\n",
       "38                        Grouper with Tomato and Basil     False\n",
       "39                         Better-Than-Pita Grill Bread     False\n",
       "40                          Coconut-Key Lime Sheet Cake     False\n",
       "...                                                  ...      ...\n",
       "20097                    Spinach and Sorrel Spanakopita     False\n",
       "20098           Wilted Red Cabbage and Bell Pepper Slaw     False\n",
       "20099  Dill-Crusted Pork Tenderloin With Farro, Pea, ...    False\n",
       "20100                            Mussels in Cream Sauce     False\n",
       "20101  Roasted and Raw Carrot Salad with Avocado and ...     True\n",
       "20102                Cabbage Soup with Apples and Thyme     False\n",
       "20103           Goat Cheese-Onion Naan with Mango Salsa     False\n",
       "20105  Grilled Fillet of Beef with Tomato Ginger Vina...    False\n",
       "20106                         Roasted Red Pepper Butter     False\n",
       "20107                       White Miso Peach/Pear/Apple     False\n",
       "20108                  Lemon and Rosemary T-Bone Steaks     False\n",
       "20109                 3-Ingredient Caramel-Pear Galette     False\n",
       "20110                                 4-3-2-1 Spice Rub     False\n",
       "20111                                Saffron Mayonnaise     False\n",
       "20112  Potato Galettes with Crab, Shrimp, and Asparagus     False\n",
       "20114                               Maple Old-Fashioned     False\n",
       "20115                                           Russian     False\n",
       "20116                Shellfish Chowder with Fresh Thyme     False\n",
       "20117                                 Cauliflower Purée     False\n",
       "20118                     Bacon-Wrapped Maple Pork Loin     False\n",
       "20119                 Chicken with White Wine and Herbs     False\n",
       "20121  Crispy Salt and Pepper Chicken with Caramelize...    False\n",
       "20122                                       Orange-Tini     False\n",
       "20123                                 Blueberry Compote     False\n",
       "20124                       Chinese Barbecued Spareribs     False\n",
       "20125                                    Parmesan Puffs     False\n",
       "20126                    Artichoke and Parmesan Risotto     False\n",
       "20127                             Turkey Cream Puff Pie     False\n",
       "20128           Snapper on Angel Hair with Citrus Cream     False\n",
       "20129        Baked Ham with Marmalade-Horseradish Glaze     False\n",
       "\n",
       "[15903 rows x 2 columns]"
      ]
     },
     "execution_count": 21,
     "metadata": {},
     "output_type": "execute_result"
    }
   ],
   "source": [
    "# Show the title of recipes and what's healthy\n",
    "short_df = recipe_df.iloc[:,10:12]\n",
    "short_df"
   ]
  },
  {
   "cell_type": "code",
   "execution_count": 22,
   "metadata": {
    "colab": {
     "autoexec": {
      "startup": false,
      "wait_interval": 0
     }
    },
    "colab_type": "code",
    "id": "02MYyLKEUWNq",
    "outputId": "055600ec-b159-42e4-c8eb-95c2bdb6c910"
   },
   "outputs": [
    {
     "data": {
      "text/plain": [
       "(15903, 2)"
      ]
     },
     "execution_count": 22,
     "metadata": {},
     "output_type": "execute_result"
    }
   ],
   "source": [
    "short_df.shape"
   ]
  },
  {
   "cell_type": "code",
   "execution_count": 23,
   "metadata": {
    "colab": {
     "autoexec": {
      "startup": false,
      "wait_interval": 0
     }
    },
    "colab_type": "code",
    "collapsed": true,
    "id": "18I7NRUuUWNw"
   },
   "outputs": [],
   "source": [
    "recipes = pd.merge(recipe_list, short_df, on='title', how='left')"
   ]
  },
  {
   "cell_type": "code",
   "execution_count": 24,
   "metadata": {
    "colab": {
     "autoexec": {
      "startup": false,
      "wait_interval": 0
     }
    },
    "colab_type": "code",
    "id": "jd1M273zUWN0",
    "outputId": "40847681-f129-498a-a335-cf0c7267ea75"
   },
   "outputs": [
    {
     "data": {
      "text/plain": [
       "(22119, 681)"
      ]
     },
     "execution_count": 24,
     "metadata": {},
     "output_type": "execute_result"
    }
   ],
   "source": [
    "recipes.shape"
   ]
  },
  {
   "cell_type": "code",
   "execution_count": 25,
   "metadata": {
    "colab": {
     "autoexec": {
      "startup": false,
      "wait_interval": 0
     }
    },
    "colab_type": "code",
    "id": "0jJnWbk6UWN-",
    "outputId": "ab103bdb-6e77-4a83-ef1f-45d6a1552381"
   },
   "outputs": [
    {
     "data": {
      "text/html": [
       "<div>\n",
       "<style>\n",
       "    .dataframe thead tr:only-child th {\n",
       "        text-align: right;\n",
       "    }\n",
       "\n",
       "    .dataframe thead th {\n",
       "        text-align: left;\n",
       "    }\n",
       "\n",
       "    .dataframe tbody tr th {\n",
       "        vertical-align: top;\n",
       "    }\n",
       "</style>\n",
       "<table border=\"1\" class=\"dataframe\">\n",
       "  <thead>\n",
       "    <tr style=\"text-align: right;\">\n",
       "      <th></th>\n",
       "      <th>title</th>\n",
       "      <th>rating</th>\n",
       "      <th>calories</th>\n",
       "      <th>protein</th>\n",
       "      <th>fat</th>\n",
       "      <th>sodium</th>\n",
       "      <th>#cakeweek</th>\n",
       "      <th>#wasteless</th>\n",
       "      <th>22-minute meals</th>\n",
       "      <th>3-ingredient recipes</th>\n",
       "      <th>...</th>\n",
       "      <th>yogurt</th>\n",
       "      <th>yonkers</th>\n",
       "      <th>yuca</th>\n",
       "      <th>zucchini</th>\n",
       "      <th>cookbooks</th>\n",
       "      <th>leftovers</th>\n",
       "      <th>snack</th>\n",
       "      <th>snack week</th>\n",
       "      <th>turkey</th>\n",
       "      <th>Healthy</th>\n",
       "    </tr>\n",
       "  </thead>\n",
       "  <tbody>\n",
       "    <tr>\n",
       "      <th>0</th>\n",
       "      <td>Lentil, Apple, and Turkey Wrap</td>\n",
       "      <td>2.500</td>\n",
       "      <td>426.0</td>\n",
       "      <td>30.0</td>\n",
       "      <td>7.0</td>\n",
       "      <td>559.0</td>\n",
       "      <td>0</td>\n",
       "      <td>0</td>\n",
       "      <td>0</td>\n",
       "      <td>0</td>\n",
       "      <td>...</td>\n",
       "      <td>0</td>\n",
       "      <td>0</td>\n",
       "      <td>0</td>\n",
       "      <td>0</td>\n",
       "      <td>0</td>\n",
       "      <td>0</td>\n",
       "      <td>0</td>\n",
       "      <td>0</td>\n",
       "      <td>1</td>\n",
       "      <td>False</td>\n",
       "    </tr>\n",
       "    <tr>\n",
       "      <th>1</th>\n",
       "      <td>Boudin Blanc Terrine with Red Onion Confit</td>\n",
       "      <td>4.375</td>\n",
       "      <td>403.0</td>\n",
       "      <td>18.0</td>\n",
       "      <td>23.0</td>\n",
       "      <td>1439.0</td>\n",
       "      <td>0</td>\n",
       "      <td>0</td>\n",
       "      <td>0</td>\n",
       "      <td>0</td>\n",
       "      <td>...</td>\n",
       "      <td>0</td>\n",
       "      <td>0</td>\n",
       "      <td>0</td>\n",
       "      <td>0</td>\n",
       "      <td>0</td>\n",
       "      <td>0</td>\n",
       "      <td>0</td>\n",
       "      <td>0</td>\n",
       "      <td>0</td>\n",
       "      <td>False</td>\n",
       "    </tr>\n",
       "    <tr>\n",
       "      <th>2</th>\n",
       "      <td>Potato and Fennel Soup Hodge</td>\n",
       "      <td>3.750</td>\n",
       "      <td>165.0</td>\n",
       "      <td>6.0</td>\n",
       "      <td>7.0</td>\n",
       "      <td>165.0</td>\n",
       "      <td>0</td>\n",
       "      <td>0</td>\n",
       "      <td>0</td>\n",
       "      <td>0</td>\n",
       "      <td>...</td>\n",
       "      <td>0</td>\n",
       "      <td>0</td>\n",
       "      <td>0</td>\n",
       "      <td>0</td>\n",
       "      <td>0</td>\n",
       "      <td>0</td>\n",
       "      <td>0</td>\n",
       "      <td>0</td>\n",
       "      <td>0</td>\n",
       "      <td>False</td>\n",
       "    </tr>\n",
       "    <tr>\n",
       "      <th>3</th>\n",
       "      <td>Spinach Noodle Casserole</td>\n",
       "      <td>3.125</td>\n",
       "      <td>547.0</td>\n",
       "      <td>20.0</td>\n",
       "      <td>32.0</td>\n",
       "      <td>452.0</td>\n",
       "      <td>0</td>\n",
       "      <td>0</td>\n",
       "      <td>0</td>\n",
       "      <td>0</td>\n",
       "      <td>...</td>\n",
       "      <td>0</td>\n",
       "      <td>0</td>\n",
       "      <td>0</td>\n",
       "      <td>0</td>\n",
       "      <td>0</td>\n",
       "      <td>0</td>\n",
       "      <td>0</td>\n",
       "      <td>0</td>\n",
       "      <td>0</td>\n",
       "      <td>False</td>\n",
       "    </tr>\n",
       "    <tr>\n",
       "      <th>4</th>\n",
       "      <td>The Best Blts</td>\n",
       "      <td>4.375</td>\n",
       "      <td>948.0</td>\n",
       "      <td>19.0</td>\n",
       "      <td>79.0</td>\n",
       "      <td>1042.0</td>\n",
       "      <td>0</td>\n",
       "      <td>0</td>\n",
       "      <td>0</td>\n",
       "      <td>0</td>\n",
       "      <td>...</td>\n",
       "      <td>0</td>\n",
       "      <td>0</td>\n",
       "      <td>0</td>\n",
       "      <td>0</td>\n",
       "      <td>0</td>\n",
       "      <td>0</td>\n",
       "      <td>0</td>\n",
       "      <td>0</td>\n",
       "      <td>0</td>\n",
       "      <td>False</td>\n",
       "    </tr>\n",
       "  </tbody>\n",
       "</table>\n",
       "<p>5 rows × 681 columns</p>\n",
       "</div>"
      ],
      "text/plain": [
       "                                         title  rating  calories  protein  \\\n",
       "0              Lentil, Apple, and Turkey Wrap    2.500     426.0     30.0   \n",
       "1  Boudin Blanc Terrine with Red Onion Confit    4.375     403.0     18.0   \n",
       "2                Potato and Fennel Soup Hodge    3.750     165.0      6.0   \n",
       "3                    Spinach Noodle Casserole    3.125     547.0     20.0   \n",
       "4                               The Best Blts    4.375     948.0     19.0   \n",
       "\n",
       "    fat  sodium  #cakeweek  #wasteless  22-minute meals  3-ingredient recipes  \\\n",
       "0   7.0   559.0          0           0                0                     0   \n",
       "1  23.0  1439.0          0           0                0                     0   \n",
       "2   7.0   165.0          0           0                0                     0   \n",
       "3  32.0   452.0          0           0                0                     0   \n",
       "4  79.0  1042.0          0           0                0                     0   \n",
       "\n",
       "    ...     yogurt  yonkers  yuca  zucchini  cookbooks  leftovers  snack  \\\n",
       "0   ...          0        0     0         0          0          0      0   \n",
       "1   ...          0        0     0         0          0          0      0   \n",
       "2   ...          0        0     0         0          0          0      0   \n",
       "3   ...          0        0     0         0          0          0      0   \n",
       "4   ...          0        0     0         0          0          0      0   \n",
       "\n",
       "   snack week  turkey  Healthy  \n",
       "0           0       1    False  \n",
       "1           0       0    False  \n",
       "2           0       0    False  \n",
       "3           0       0    False  \n",
       "4           0       0    False  \n",
       "\n",
       "[5 rows x 681 columns]"
      ]
     },
     "execution_count": 25,
     "metadata": {},
     "output_type": "execute_result"
    }
   ],
   "source": [
    "recipes.head()"
   ]
  },
  {
   "cell_type": "code",
   "execution_count": 26,
   "metadata": {
    "colab": {
     "autoexec": {
      "startup": false,
      "wait_interval": 0
     },
     "base_uri": "https://localhost:8080/",
     "height": 162
    },
    "colab_type": "code",
    "collapsed": true,
    "executionInfo": {
     "elapsed": 845,
     "status": "error",
     "timestamp": 1525074021364,
     "user": {
      "displayName": "Jenny Yao",
      "photoUrl": "//lh6.googleusercontent.com/-7slFnHGa3GM/AAAAAAAAAAI/AAAAAAAADw8/eoXxslg5DJE/s50-c-k-no/photo.jpg",
      "userId": "116728134215668822228"
     },
     "user_tz": 420
    },
    "id": "HA1F10-MUWOB",
    "outputId": "044787fa-7ef6-4085-ce9c-3cbcf21fc202"
   },
   "outputs": [],
   "source": [
    "recipes.drop(['rating'], axis=1, inplace=True)"
   ]
  },
  {
   "cell_type": "code",
   "execution_count": 27,
   "metadata": {
    "colab": {
     "autoexec": {
      "startup": false,
      "wait_interval": 0
     }
    },
    "colab_type": "code",
    "id": "FsEcVt79UWOE",
    "outputId": "2dab5222-b9eb-4c68-f6b1-47e5eabdff11"
   },
   "outputs": [
    {
     "data": {
      "text/html": [
       "<div>\n",
       "<style>\n",
       "    .dataframe thead tr:only-child th {\n",
       "        text-align: right;\n",
       "    }\n",
       "\n",
       "    .dataframe thead th {\n",
       "        text-align: left;\n",
       "    }\n",
       "\n",
       "    .dataframe tbody tr th {\n",
       "        vertical-align: top;\n",
       "    }\n",
       "</style>\n",
       "<table border=\"1\" class=\"dataframe\">\n",
       "  <thead>\n",
       "    <tr style=\"text-align: right;\">\n",
       "      <th></th>\n",
       "      <th>title</th>\n",
       "      <th>calories</th>\n",
       "      <th>protein</th>\n",
       "      <th>fat</th>\n",
       "      <th>sodium</th>\n",
       "      <th>#cakeweek</th>\n",
       "      <th>#wasteless</th>\n",
       "      <th>22-minute meals</th>\n",
       "      <th>3-ingredient recipes</th>\n",
       "      <th>30 days of groceries</th>\n",
       "      <th>...</th>\n",
       "      <th>yogurt</th>\n",
       "      <th>yonkers</th>\n",
       "      <th>yuca</th>\n",
       "      <th>zucchini</th>\n",
       "      <th>cookbooks</th>\n",
       "      <th>leftovers</th>\n",
       "      <th>snack</th>\n",
       "      <th>snack week</th>\n",
       "      <th>turkey</th>\n",
       "      <th>Healthy</th>\n",
       "    </tr>\n",
       "  </thead>\n",
       "  <tbody>\n",
       "    <tr>\n",
       "      <th>0</th>\n",
       "      <td>Lentil, Apple, and Turkey Wrap</td>\n",
       "      <td>426.0</td>\n",
       "      <td>30.0</td>\n",
       "      <td>7.0</td>\n",
       "      <td>559.0</td>\n",
       "      <td>0</td>\n",
       "      <td>0</td>\n",
       "      <td>0</td>\n",
       "      <td>0</td>\n",
       "      <td>0</td>\n",
       "      <td>...</td>\n",
       "      <td>0</td>\n",
       "      <td>0</td>\n",
       "      <td>0</td>\n",
       "      <td>0</td>\n",
       "      <td>0</td>\n",
       "      <td>0</td>\n",
       "      <td>0</td>\n",
       "      <td>0</td>\n",
       "      <td>1</td>\n",
       "      <td>False</td>\n",
       "    </tr>\n",
       "    <tr>\n",
       "      <th>1</th>\n",
       "      <td>Boudin Blanc Terrine with Red Onion Confit</td>\n",
       "      <td>403.0</td>\n",
       "      <td>18.0</td>\n",
       "      <td>23.0</td>\n",
       "      <td>1439.0</td>\n",
       "      <td>0</td>\n",
       "      <td>0</td>\n",
       "      <td>0</td>\n",
       "      <td>0</td>\n",
       "      <td>0</td>\n",
       "      <td>...</td>\n",
       "      <td>0</td>\n",
       "      <td>0</td>\n",
       "      <td>0</td>\n",
       "      <td>0</td>\n",
       "      <td>0</td>\n",
       "      <td>0</td>\n",
       "      <td>0</td>\n",
       "      <td>0</td>\n",
       "      <td>0</td>\n",
       "      <td>False</td>\n",
       "    </tr>\n",
       "    <tr>\n",
       "      <th>2</th>\n",
       "      <td>Potato and Fennel Soup Hodge</td>\n",
       "      <td>165.0</td>\n",
       "      <td>6.0</td>\n",
       "      <td>7.0</td>\n",
       "      <td>165.0</td>\n",
       "      <td>0</td>\n",
       "      <td>0</td>\n",
       "      <td>0</td>\n",
       "      <td>0</td>\n",
       "      <td>0</td>\n",
       "      <td>...</td>\n",
       "      <td>0</td>\n",
       "      <td>0</td>\n",
       "      <td>0</td>\n",
       "      <td>0</td>\n",
       "      <td>0</td>\n",
       "      <td>0</td>\n",
       "      <td>0</td>\n",
       "      <td>0</td>\n",
       "      <td>0</td>\n",
       "      <td>False</td>\n",
       "    </tr>\n",
       "    <tr>\n",
       "      <th>3</th>\n",
       "      <td>Spinach Noodle Casserole</td>\n",
       "      <td>547.0</td>\n",
       "      <td>20.0</td>\n",
       "      <td>32.0</td>\n",
       "      <td>452.0</td>\n",
       "      <td>0</td>\n",
       "      <td>0</td>\n",
       "      <td>0</td>\n",
       "      <td>0</td>\n",
       "      <td>0</td>\n",
       "      <td>...</td>\n",
       "      <td>0</td>\n",
       "      <td>0</td>\n",
       "      <td>0</td>\n",
       "      <td>0</td>\n",
       "      <td>0</td>\n",
       "      <td>0</td>\n",
       "      <td>0</td>\n",
       "      <td>0</td>\n",
       "      <td>0</td>\n",
       "      <td>False</td>\n",
       "    </tr>\n",
       "    <tr>\n",
       "      <th>4</th>\n",
       "      <td>The Best Blts</td>\n",
       "      <td>948.0</td>\n",
       "      <td>19.0</td>\n",
       "      <td>79.0</td>\n",
       "      <td>1042.0</td>\n",
       "      <td>0</td>\n",
       "      <td>0</td>\n",
       "      <td>0</td>\n",
       "      <td>0</td>\n",
       "      <td>0</td>\n",
       "      <td>...</td>\n",
       "      <td>0</td>\n",
       "      <td>0</td>\n",
       "      <td>0</td>\n",
       "      <td>0</td>\n",
       "      <td>0</td>\n",
       "      <td>0</td>\n",
       "      <td>0</td>\n",
       "      <td>0</td>\n",
       "      <td>0</td>\n",
       "      <td>False</td>\n",
       "    </tr>\n",
       "  </tbody>\n",
       "</table>\n",
       "<p>5 rows × 680 columns</p>\n",
       "</div>"
      ],
      "text/plain": [
       "                                         title  calories  protein   fat  \\\n",
       "0              Lentil, Apple, and Turkey Wrap      426.0     30.0   7.0   \n",
       "1  Boudin Blanc Terrine with Red Onion Confit      403.0     18.0  23.0   \n",
       "2                Potato and Fennel Soup Hodge      165.0      6.0   7.0   \n",
       "3                    Spinach Noodle Casserole      547.0     20.0  32.0   \n",
       "4                               The Best Blts      948.0     19.0  79.0   \n",
       "\n",
       "   sodium  #cakeweek  #wasteless  22-minute meals  3-ingredient recipes  \\\n",
       "0   559.0          0           0                0                     0   \n",
       "1  1439.0          0           0                0                     0   \n",
       "2   165.0          0           0                0                     0   \n",
       "3   452.0          0           0                0                     0   \n",
       "4  1042.0          0           0                0                     0   \n",
       "\n",
       "   30 days of groceries   ...     yogurt  yonkers  yuca  zucchini  cookbooks  \\\n",
       "0                     0   ...          0        0     0         0          0   \n",
       "1                     0   ...          0        0     0         0          0   \n",
       "2                     0   ...          0        0     0         0          0   \n",
       "3                     0   ...          0        0     0         0          0   \n",
       "4                     0   ...          0        0     0         0          0   \n",
       "\n",
       "   leftovers  snack  snack week  turkey  Healthy  \n",
       "0          0      0           0       1    False  \n",
       "1          0      0           0       0    False  \n",
       "2          0      0           0       0    False  \n",
       "3          0      0           0       0    False  \n",
       "4          0      0           0       0    False  \n",
       "\n",
       "[5 rows x 680 columns]"
      ]
     },
     "execution_count": 27,
     "metadata": {},
     "output_type": "execute_result"
    }
   ],
   "source": [
    "recipes.head()"
   ]
  },
  {
   "cell_type": "code",
   "execution_count": 28,
   "metadata": {
    "colab": {
     "autoexec": {
      "startup": false,
      "wait_interval": 0
     }
    },
    "colab_type": "code",
    "id": "mJ6LHopRUWOL",
    "outputId": "8b2a7ee2-021c-4f02-a5d7-391bd12abdf8"
   },
   "outputs": [
    {
     "data": {
      "text/html": [
       "<div>\n",
       "<style>\n",
       "    .dataframe thead tr:only-child th {\n",
       "        text-align: right;\n",
       "    }\n",
       "\n",
       "    .dataframe thead th {\n",
       "        text-align: left;\n",
       "    }\n",
       "\n",
       "    .dataframe tbody tr th {\n",
       "        vertical-align: top;\n",
       "    }\n",
       "</style>\n",
       "<table border=\"1\" class=\"dataframe\">\n",
       "  <thead>\n",
       "    <tr style=\"text-align: right;\">\n",
       "      <th></th>\n",
       "      <th>title</th>\n",
       "      <th>calories</th>\n",
       "      <th>protein</th>\n",
       "      <th>fat</th>\n",
       "      <th>sodium</th>\n",
       "      <th>#cakeweek</th>\n",
       "      <th>#wasteless</th>\n",
       "      <th>22-minute meals</th>\n",
       "      <th>3-ingredient recipes</th>\n",
       "      <th>30 days of groceries</th>\n",
       "      <th>...</th>\n",
       "      <th>yogurt</th>\n",
       "      <th>yonkers</th>\n",
       "      <th>yuca</th>\n",
       "      <th>zucchini</th>\n",
       "      <th>cookbooks</th>\n",
       "      <th>leftovers</th>\n",
       "      <th>snack</th>\n",
       "      <th>snack week</th>\n",
       "      <th>turkey</th>\n",
       "      <th>Healthy</th>\n",
       "    </tr>\n",
       "  </thead>\n",
       "  <tbody>\n",
       "    <tr>\n",
       "      <th>22115</th>\n",
       "      <td>Artichoke and Parmesan Risotto</td>\n",
       "      <td>671.0</td>\n",
       "      <td>22.0</td>\n",
       "      <td>28.0</td>\n",
       "      <td>583.0</td>\n",
       "      <td>0</td>\n",
       "      <td>0</td>\n",
       "      <td>0</td>\n",
       "      <td>0</td>\n",
       "      <td>0</td>\n",
       "      <td>...</td>\n",
       "      <td>0</td>\n",
       "      <td>0</td>\n",
       "      <td>0</td>\n",
       "      <td>0</td>\n",
       "      <td>0</td>\n",
       "      <td>0</td>\n",
       "      <td>0</td>\n",
       "      <td>0</td>\n",
       "      <td>0</td>\n",
       "      <td>False</td>\n",
       "    </tr>\n",
       "    <tr>\n",
       "      <th>22116</th>\n",
       "      <td>Turkey Cream Puff Pie</td>\n",
       "      <td>563.0</td>\n",
       "      <td>31.0</td>\n",
       "      <td>38.0</td>\n",
       "      <td>652.0</td>\n",
       "      <td>0</td>\n",
       "      <td>0</td>\n",
       "      <td>0</td>\n",
       "      <td>0</td>\n",
       "      <td>0</td>\n",
       "      <td>...</td>\n",
       "      <td>0</td>\n",
       "      <td>0</td>\n",
       "      <td>0</td>\n",
       "      <td>0</td>\n",
       "      <td>0</td>\n",
       "      <td>0</td>\n",
       "      <td>0</td>\n",
       "      <td>0</td>\n",
       "      <td>1</td>\n",
       "      <td>False</td>\n",
       "    </tr>\n",
       "    <tr>\n",
       "      <th>22117</th>\n",
       "      <td>Snapper on Angel Hair with Citrus Cream</td>\n",
       "      <td>631.0</td>\n",
       "      <td>45.0</td>\n",
       "      <td>24.0</td>\n",
       "      <td>517.0</td>\n",
       "      <td>0</td>\n",
       "      <td>0</td>\n",
       "      <td>0</td>\n",
       "      <td>0</td>\n",
       "      <td>0</td>\n",
       "      <td>...</td>\n",
       "      <td>0</td>\n",
       "      <td>0</td>\n",
       "      <td>0</td>\n",
       "      <td>0</td>\n",
       "      <td>0</td>\n",
       "      <td>0</td>\n",
       "      <td>0</td>\n",
       "      <td>0</td>\n",
       "      <td>0</td>\n",
       "      <td>False</td>\n",
       "    </tr>\n",
       "    <tr>\n",
       "      <th>22118</th>\n",
       "      <td>Baked Ham with Marmalade-Horseradish Glaze</td>\n",
       "      <td>560.0</td>\n",
       "      <td>73.0</td>\n",
       "      <td>10.0</td>\n",
       "      <td>3698.0</td>\n",
       "      <td>0</td>\n",
       "      <td>0</td>\n",
       "      <td>0</td>\n",
       "      <td>0</td>\n",
       "      <td>0</td>\n",
       "      <td>...</td>\n",
       "      <td>0</td>\n",
       "      <td>0</td>\n",
       "      <td>0</td>\n",
       "      <td>0</td>\n",
       "      <td>0</td>\n",
       "      <td>0</td>\n",
       "      <td>0</td>\n",
       "      <td>0</td>\n",
       "      <td>0</td>\n",
       "      <td>False</td>\n",
       "    </tr>\n",
       "    <tr>\n",
       "      <th>Total</th>\n",
       "      <td>Lentil, Apple, and Turkey Wrap Boudin Blanc Te...</td>\n",
       "      <td>111228968.0</td>\n",
       "      <td>2134218.0</td>\n",
       "      <td>6071323.0</td>\n",
       "      <td>107833964.0</td>\n",
       "      <td>6</td>\n",
       "      <td>1</td>\n",
       "      <td>15</td>\n",
       "      <td>20</td>\n",
       "      <td>7</td>\n",
       "      <td>...</td>\n",
       "      <td>416</td>\n",
       "      <td>1</td>\n",
       "      <td>5</td>\n",
       "      <td>237</td>\n",
       "      <td>2</td>\n",
       "      <td>5</td>\n",
       "      <td>24</td>\n",
       "      <td>16</td>\n",
       "      <td>949</td>\n",
       "      <td>1602</td>\n",
       "    </tr>\n",
       "  </tbody>\n",
       "</table>\n",
       "<p>5 rows × 680 columns</p>\n",
       "</div>"
      ],
      "text/plain": [
       "                                                   title     calories  \\\n",
       "22115                    Artichoke and Parmesan Risotto         671.0   \n",
       "22116                             Turkey Cream Puff Pie         563.0   \n",
       "22117           Snapper on Angel Hair with Citrus Cream         631.0   \n",
       "22118        Baked Ham with Marmalade-Horseradish Glaze         560.0   \n",
       "Total  Lentil, Apple, and Turkey Wrap Boudin Blanc Te...  111228968.0   \n",
       "\n",
       "         protein        fat       sodium  #cakeweek  #wasteless  \\\n",
       "22115       22.0       28.0        583.0          0           0   \n",
       "22116       31.0       38.0        652.0          0           0   \n",
       "22117       45.0       24.0        517.0          0           0   \n",
       "22118       73.0       10.0       3698.0          0           0   \n",
       "Total  2134218.0  6071323.0  107833964.0          6           1   \n",
       "\n",
       "       22-minute meals  3-ingredient recipes  30 days of groceries   ...     \\\n",
       "22115                0                     0                     0   ...      \n",
       "22116                0                     0                     0   ...      \n",
       "22117                0                     0                     0   ...      \n",
       "22118                0                     0                     0   ...      \n",
       "Total               15                    20                     7   ...      \n",
       "\n",
       "       yogurt  yonkers  yuca  zucchini  cookbooks  leftovers  snack  \\\n",
       "22115       0        0     0         0          0          0      0   \n",
       "22116       0        0     0         0          0          0      0   \n",
       "22117       0        0     0         0          0          0      0   \n",
       "22118       0        0     0         0          0          0      0   \n",
       "Total     416        1     5       237          2          5     24   \n",
       "\n",
       "       snack week  turkey  Healthy  \n",
       "22115           0       0    False  \n",
       "22116           0       1    False  \n",
       "22117           0       0    False  \n",
       "22118           0       0    False  \n",
       "Total          16     949     1602  \n",
       "\n",
       "[5 rows x 680 columns]"
      ]
     },
     "execution_count": 28,
     "metadata": {},
     "output_type": "execute_result"
    }
   ],
   "source": [
    "# add a row with column totals\n",
    "recipes.loc['Total']= recipes.sum()\n",
    "recipes.tail()"
   ]
  },
  {
   "cell_type": "markdown",
   "metadata": {
    "colab_type": "text",
    "id": "cShBJ8ChUWOY"
   },
   "source": [
    "## Feature Extraction"
   ]
  },
  {
   "cell_type": "markdown",
   "metadata": {
    "colab_type": "text",
    "id": "rjb1MR2kUWOb"
   },
   "source": [
    "### Step 1: Use the CountVectorizer on the Ingredients"
   ]
  },
  {
   "cell_type": "code",
   "execution_count": 29,
   "metadata": {
    "colab": {
     "autoexec": {
      "startup": false,
      "wait_interval": 0
     }
    },
    "colab_type": "code",
    "collapsed": true,
    "id": "bI06mwlyUWOc"
   },
   "outputs": [],
   "source": [
    "# #Create the vectorized matrix for the ingredients \n",
    "# import sklearn.feature_extraction.text as sk_text\n",
    "\n",
    "# #define an instance of a vectorizer\n",
    "# vectorizer = sk_text.CountVectorizer(min_df=1, max_df=1.0, max_features=100)"
   ]
  },
  {
   "cell_type": "markdown",
   "metadata": {
    "colab_type": "text",
    "id": "gWVrGPekUWOh"
   },
   "source": [
    "### Step 2: Add additional columns to the matrix for the calories, sodium, fat, and protein"
   ]
  },
  {
   "cell_type": "code",
   "execution_count": 30,
   "metadata": {
    "colab": {
     "autoexec": {
      "startup": false,
      "wait_interval": 0
     }
    },
    "colab_type": "code",
    "collapsed": true,
    "id": "AQYtsx7EUWOh"
   },
   "outputs": [],
   "source": [
    "#Add these 4 columns into X, recipe_df['calories','protein','fat','sodium']"
   ]
  },
  {
   "cell_type": "code",
   "execution_count": 31,
   "metadata": {
    "colab": {
     "autoexec": {
      "startup": false,
      "wait_interval": 0
     }
    },
    "colab_type": "code",
    "id": "wJt_uAedUWOl",
    "outputId": "3e01646b-b129-4982-8135-d248b5671dd1"
   },
   "outputs": [
    {
     "data": {
      "text/plain": [
       "array([[  559.,   426.,     7.,    30.],\n",
       "       [ 1439.,   403.,    23.,    18.],\n",
       "       [  165.,   165.,     7.,     6.],\n",
       "       ..., \n",
       "       [  652.,   563.,    38.,    31.],\n",
       "       [  517.,   631.,    24.,    45.],\n",
       "       [ 3698.,   560.,    10.,    73.]])"
      ]
     },
     "execution_count": 31,
     "metadata": {},
     "output_type": "execute_result"
    }
   ],
   "source": [
    "#X is the matrix\n",
    "# X = vectorizer.fit_transform(recipe_df['ingredients']).toarray()\n",
    "\n",
    "X = recipe_df.as_matrix(columns=['sodium','calories','fat','protein'])\n",
    "X"
   ]
  },
  {
   "cell_type": "code",
   "execution_count": 32,
   "metadata": {
    "colab": {
     "autoexec": {
      "startup": false,
      "wait_interval": 0
     }
    },
    "colab_type": "code",
    "id": "QKZsmpFtUWOp",
    "outputId": "0268ba15-c0c1-4752-d30f-09b1c5ad6c01"
   },
   "outputs": [
    {
     "data": {
      "text/plain": [
       "0        0\n",
       "1        0\n",
       "2        0\n",
       "4        0\n",
       "5        0\n",
       "8        0\n",
       "9        0\n",
       "10       0\n",
       "12       0\n",
       "13       0\n",
       "14       0\n",
       "15       1\n",
       "16       0\n",
       "17       0\n",
       "18       0\n",
       "19       0\n",
       "20       0\n",
       "24       0\n",
       "25       0\n",
       "26       0\n",
       "27       1\n",
       "28       0\n",
       "29       0\n",
       "32       0\n",
       "33       0\n",
       "35       0\n",
       "37       0\n",
       "38       0\n",
       "39       0\n",
       "40       0\n",
       "        ..\n",
       "20097    0\n",
       "20098    0\n",
       "20099    0\n",
       "20100    0\n",
       "20101    1\n",
       "20102    0\n",
       "20103    0\n",
       "20105    0\n",
       "20106    0\n",
       "20107    0\n",
       "20108    0\n",
       "20109    0\n",
       "20110    0\n",
       "20111    0\n",
       "20112    0\n",
       "20114    0\n",
       "20115    0\n",
       "20116    0\n",
       "20117    0\n",
       "20118    0\n",
       "20119    0\n",
       "20121    0\n",
       "20122    0\n",
       "20123    0\n",
       "20124    0\n",
       "20125    0\n",
       "20126    0\n",
       "20127    0\n",
       "20128    0\n",
       "20129    0\n",
       "Name: Healthy, Length: 15903, dtype: int32"
      ]
     },
     "execution_count": 32,
     "metadata": {},
     "output_type": "execute_result"
    }
   ],
   "source": [
    "#y is the target/feature\n",
    "y = recipe_df['Healthy'].astype(int)\n",
    "y"
   ]
  },
  {
   "cell_type": "markdown",
   "metadata": {
    "colab_type": "text",
    "id": "u3P_d3P4UWOw"
   },
   "source": [
    "## Split the data into training and test set"
   ]
  },
  {
   "cell_type": "code",
   "execution_count": 33,
   "metadata": {
    "colab": {
     "autoexec": {
      "startup": false,
      "wait_interval": 0
     }
    },
    "colab_type": "code",
    "collapsed": true,
    "id": "swmhf85cUWOy"
   },
   "outputs": [],
   "source": [
    "# STEP 1: split X and y into training and testing sets\n",
    "from sklearn.model_selection import train_test_split\n",
    "X_train, X_test, y_train, y_test = train_test_split(X, y, test_size=0.2, random_state=4)"
   ]
  },
  {
   "cell_type": "code",
   "execution_count": 34,
   "metadata": {
    "colab": {
     "autoexec": {
      "startup": false,
      "wait_interval": 0
     }
    },
    "colab_type": "code",
    "id": "xa45EtA4UWPC",
    "outputId": "877ae5c7-c996-41dc-abb8-0ff4c220f347"
   },
   "outputs": [
    {
     "name": "stdout",
     "output_type": "stream",
     "text": [
      "(12722, 4)\n",
      "(3181, 4)\n"
     ]
    }
   ],
   "source": [
    "# print the shapes of the new X objects\n",
    "print(X_train.shape)\n",
    "print(X_test.shape)"
   ]
  },
  {
   "cell_type": "code",
   "execution_count": 35,
   "metadata": {
    "colab": {
     "autoexec": {
      "startup": false,
      "wait_interval": 0
     }
    },
    "colab_type": "code",
    "id": "fzMCehOEUWPH",
    "outputId": "38ecbea3-1e02-4e28-acbd-d3e714366bea"
   },
   "outputs": [
    {
     "name": "stdout",
     "output_type": "stream",
     "text": [
      "(12722,)\n",
      "(3181,)\n"
     ]
    }
   ],
   "source": [
    "# print the shapes of the new y objects\n",
    "print(y_train.shape)\n",
    "print(y_test.shape)"
   ]
  },
  {
   "cell_type": "markdown",
   "metadata": {
    "colab_type": "text",
    "id": "X-gM9alQUWPS"
   },
   "source": [
    "## Apply Models and Calculate the Statistics"
   ]
  },
  {
   "cell_type": "markdown",
   "metadata": {
    "colab_type": "text",
    "id": "4lqMIQfBUWPS"
   },
   "source": [
    "### k-NN\n",
    "\n"
   ]
  },
  {
   "cell_type": "code",
   "execution_count": 36,
   "metadata": {
    "colab": {
     "autoexec": {
      "startup": false,
      "wait_interval": 0
     }
    },
    "colab_type": "code",
    "id": "KP8PE_6PUWPT",
    "outputId": "5af7a143-d231-4a52-9af4-6ba1bbb5e833"
   },
   "outputs": [
    {
     "data": {
      "text/plain": [
       "KNeighborsClassifier(algorithm='auto', leaf_size=30, metric='minkowski',\n",
       "           metric_params=None, n_jobs=1, n_neighbors=5, p=2,\n",
       "           weights='uniform')"
      ]
     },
     "execution_count": 36,
     "metadata": {},
     "output_type": "execute_result"
    }
   ],
   "source": [
    "from sklearn.neighbors import KNeighborsClassifier\n",
    "from sklearn.neighbors import NearestNeighbors\n",
    "\n",
    "# train your model using all data and the best known parameters\n",
    "knn = KNeighborsClassifier(n_neighbors=5, weights='uniform')\n",
    "knn.fit(X_train, y_train)"
   ]
  },
  {
   "cell_type": "code",
   "execution_count": 37,
   "metadata": {
    "colab": {
     "autoexec": {
      "startup": false,
      "wait_interval": 0
     }
    },
    "colab_type": "code",
    "id": "HQYiwDWMUWPf",
    "outputId": "9cc501da-691b-48a8-a1a6-917f85c8502c"
   },
   "outputs": [
    {
     "data": {
      "text/plain": [
       "array([0, 0, 0, ..., 0, 0, 0])"
      ]
     },
     "execution_count": 37,
     "metadata": {},
     "output_type": "execute_result"
    }
   ],
   "source": [
    "from sklearn import metrics\n",
    "\n",
    "y_pred_knn = knn.predict(X_test)\n",
    "y_pred_knn"
   ]
  },
  {
   "cell_type": "code",
   "execution_count": 38,
   "metadata": {
    "colab": {
     "autoexec": {
      "startup": false,
      "wait_interval": 0
     }
    },
    "colab_type": "code",
    "id": "JBGfyFYhUWPi",
    "outputId": "4a4cdc52-2d5a-410c-8441-2ba3ace217ca"
   },
   "outputs": [
    {
     "data": {
      "text/plain": [
       "array([[2903,   26],\n",
       "       [ 246,    6]], dtype=int64)"
      ]
     },
     "execution_count": 38,
     "metadata": {},
     "output_type": "execute_result"
    }
   ],
   "source": [
    "#confusion matrix\n",
    "confusion = metrics.confusion_matrix(y_test, y_pred_knn)\n",
    "confusion"
   ]
  },
  {
   "cell_type": "code",
   "execution_count": 39,
   "metadata": {
    "colab": {
     "autoexec": {
      "startup": false,
      "wait_interval": 0
     }
    },
    "colab_type": "code",
    "id": "hew9jj0KUWPr",
    "outputId": "007e9a78-bc70-47bb-988a-171395661f59"
   },
   "outputs": [
    {
     "name": "stdout",
     "output_type": "stream",
     "text": [
      "0.0238095238095\n"
     ]
    }
   ],
   "source": [
    "#recall score\n",
    "print(metrics.recall_score(y_test, y_pred_knn))"
   ]
  },
  {
   "cell_type": "code",
   "execution_count": 40,
   "metadata": {
    "colab": {
     "autoexec": {
      "startup": false,
      "wait_interval": 0
     }
    },
    "colab_type": "code",
    "id": "JqhRvpkKUWPy",
    "outputId": "6b330c5e-84d8-4055-a898-c7d9b37e040c"
   },
   "outputs": [
    {
     "name": "stdout",
     "output_type": "stream",
     "text": [
      "0.1875\n"
     ]
    }
   ],
   "source": [
    "#precision score\n",
    "print(metrics.precision_score(y_test, y_pred_knn))"
   ]
  },
  {
   "cell_type": "code",
   "execution_count": 41,
   "metadata": {
    "colab": {
     "autoexec": {
      "startup": false,
      "wait_interval": 0
     }
    },
    "colab_type": "code",
    "id": "SX9Tlgd9UWP3",
    "outputId": "8717fd4b-00ef-43e1-c11f-bed074c5b20c"
   },
   "outputs": [
    {
     "name": "stdout",
     "output_type": "stream",
     "text": [
      "0.882920641074\n"
     ]
    }
   ],
   "source": [
    "#f1 score\n",
    "print(metrics.f1_score(y_test, y_pred_knn, average= 'weighted'))"
   ]
  },
  {
   "cell_type": "markdown",
   "metadata": {
    "colab_type": "text",
    "id": "JLLMqFqOUWQE"
   },
   "source": [
    "#### k-NN: ROC Curves and Area Under the Curve (AUC)\n",
    "Shows how recall (sensitivity) and specificity are affected by various thresholds. Shows how to use the secular and how we use the curve to compare k-NN to different models."
   ]
  },
  {
   "cell_type": "code",
   "execution_count": 42,
   "metadata": {
    "colab": {
     "autoexec": {
      "startup": false,
      "wait_interval": 0
     }
    },
    "colab_type": "code",
    "id": "JLRZcmAsUWQG",
    "outputId": "604c5efb-513f-4a26-c876-47f9a31a4c1b"
   },
   "outputs": [
    {
     "data": {
      "text/plain": [
       "array([[ 0.8,  0.2],\n",
       "       [ 1. ,  0. ],\n",
       "       [ 1. ,  0. ],\n",
       "       ..., \n",
       "       [ 0.8,  0.2],\n",
       "       [ 1. ,  0. ],\n",
       "       [ 0.8,  0.2]])"
      ]
     },
     "execution_count": 42,
     "metadata": {},
     "output_type": "execute_result"
    }
   ],
   "source": [
    "# print the predicted probabilities for class 0 (no) and class 1 (yes)\n",
    "y_pred_prob = knn.predict_proba(X_test)\n",
    "y_pred_prob"
   ]
  },
  {
   "cell_type": "code",
   "execution_count": 43,
   "metadata": {
    "colab": {
     "autoexec": {
      "startup": false,
      "wait_interval": 0
     }
    },
    "colab_type": "code",
    "id": "GDo7iaNdUWQK",
    "outputId": "c5e16b83-e35a-4b7c-8a82-bf7ad12165c7"
   },
   "outputs": [
    {
     "data": {
      "text/plain": [
       "array([ 0.2,  0. ,  0. , ...,  0.2,  0. ,  0.2])"
      ]
     },
     "execution_count": 43,
     "metadata": {},
     "output_type": "execute_result"
    }
   ],
   "source": [
    "# print the predicted probabilities for class 0 and class 1\n",
    "# give us all the probabilities of healthy recipes\n",
    "y_pred_prob_class_1 = y_pred_prob[ :, 1]\n",
    "y_pred_prob_class_1"
   ]
  },
  {
   "cell_type": "code",
   "execution_count": 44,
   "metadata": {
    "colab": {
     "autoexec": {
      "startup": false,
      "wait_interval": 0
     }
    },
    "colab_type": "code",
    "id": "LlOkyoxrUWQR",
    "outputId": "81bbec21-0694-45a2-9258-664a356dda95"
   },
   "outputs": [
    {
     "data": {
      "image/png": "[encoded data removed]",
      "text/plain": [
       "<matplotlib.figure.Figure at 0x253299fb240>"
      ]
     },
     "metadata": {},
     "output_type": "display_data"
    }
   ],
   "source": [
    "#We use matplotlib to get a ROC curve for the classifier\n",
    "%matplotlib inline\n",
    "import matplotlib.pyplot as plt\n",
    "# call roc_curve using the matrix, then we use the ground truth y_test\n",
    "#we plot these 2 vectors fpr and tpr\n",
    "fpr, tpr, thresholds = metrics.roc_curve(y_test, y_pred_prob_class_1)\n",
    "plt.plot(fpr, tpr)\n",
    "plt.xlim([0.0, 1.0])\n",
    "plt.ylim([0.0, 1.0])\n",
    "plt.title('ROC curve for k-NN Classifier for Class 1')\n",
    "plt.xlabel('False Positive Rate')\n",
    "plt.ylabel('True Positive Rate')\n",
    "plt.grid(True)\n",
    "plt.show()"
   ]
  },
  {
   "cell_type": "markdown",
   "metadata": {
    "colab_type": "text",
    "id": "aH3baF-TUWQW"
   },
   "source": [
    "Using the ground truth to get the probability of that class to get the AUC, which is the __percentage__ of the area that is _under the curve_"
   ]
  },
  {
   "cell_type": "code",
   "execution_count": 45,
   "metadata": {
    "colab": {
     "autoexec": {
      "startup": false,
      "wait_interval": 0
     }
    },
    "colab_type": "code",
    "id": "Dq6bClq3UWQW",
    "outputId": "a5c5068a-8ae6-42c4-f27c-2762d86cd707"
   },
   "outputs": [
    {
     "name": "stdout",
     "output_type": "stream",
     "text": [
      "0.580857408401\n"
     ]
    }
   ],
   "source": [
    "print(metrics.roc_auc_score(y_test, y_pred_prob_class_1))"
   ]
  },
  {
   "cell_type": "markdown",
   "metadata": {
    "colab_type": "text",
    "id": "S8u27wioUWQb"
   },
   "source": [
    "### Decision Tree"
   ]
  },
  {
   "cell_type": "code",
   "execution_count": 46,
   "metadata": {
    "colab": {
     "autoexec": {
      "startup": false,
      "wait_interval": 0
     }
    },
    "colab_type": "code",
    "collapsed": true,
    "id": "M5rF2omBUWQc"
   },
   "outputs": [],
   "source": [
    "from sklearn import tree \n",
    "#train the model on the training set\n",
    "\n",
    "clf_tree = tree.DecisionTreeClassifier()\n",
    "clf_tree = clf_tree.fit(X_train, y_train)"
   ]
  },
  {
   "cell_type": "code",
   "execution_count": 47,
   "metadata": {
    "colab": {
     "autoexec": {
      "startup": false,
      "wait_interval": 0
     }
    },
    "colab_type": "code",
    "id": "Mu7ndNnYUWQi",
    "outputId": "ca5b4be7-725c-4d2b-9d1f-e125fab040ea"
   },
   "outputs": [
    {
     "data": {
      "text/plain": [
       "array([0, 0, 0, ..., 0, 0, 0])"
      ]
     },
     "execution_count": 47,
     "metadata": {},
     "output_type": "execute_result"
    }
   ],
   "source": [
    "from sklearn import metrics\n",
    "#make predictions on the testing set\n",
    "y_pred_tree = clf_tree.predict(X_test)\n",
    "y_pred_tree"
   ]
  },
  {
   "cell_type": "code",
   "execution_count": 48,
   "metadata": {
    "colab": {
     "autoexec": {
      "startup": false,
      "wait_interval": 0
     }
    },
    "colab_type": "code",
    "id": "_3lYt0a6UWQm",
    "outputId": "37980284-d576-4aaa-9a16-dcad54e48bd3"
   },
   "outputs": [
    {
     "data": {
      "text/plain": [
       "array([[2739,  190],\n",
       "       [ 203,   49]], dtype=int64)"
      ]
     },
     "execution_count": 48,
     "metadata": {},
     "output_type": "execute_result"
    }
   ],
   "source": [
    "#confusion matrix\n",
    "confusion = metrics.confusion_matrix(y_test, y_pred_tree)\n",
    "confusion"
   ]
  },
  {
   "cell_type": "code",
   "execution_count": 49,
   "metadata": {
    "colab": {
     "autoexec": {
      "startup": false,
      "wait_interval": 0
     }
    },
    "colab_type": "code",
    "id": "YZNV5wIvUWQs",
    "outputId": "c4770709-38a5-4df1-b2b1-c69ce97fcc25"
   },
   "outputs": [
    {
     "name": "stdout",
     "output_type": "stream",
     "text": [
      "0.194444444444\n"
     ]
    }
   ],
   "source": [
    "#recall score\n",
    "print(metrics.recall_score(y_test, y_pred_tree))"
   ]
  },
  {
   "cell_type": "code",
   "execution_count": 50,
   "metadata": {
    "colab": {
     "autoexec": {
      "startup": false,
      "wait_interval": 0
     }
    },
    "colab_type": "code",
    "id": "tTdur9v3UWQw",
    "outputId": "5ffe6f9d-4412-4388-88c8-e7fb547afd3e"
   },
   "outputs": [
    {
     "name": "stdout",
     "output_type": "stream",
     "text": [
      "0.205020920502\n"
     ]
    }
   ],
   "source": [
    "#precision score\n",
    "print(metrics.precision_score(y_test, y_pred_tree))"
   ]
  },
  {
   "cell_type": "code",
   "execution_count": 51,
   "metadata": {
    "colab": {
     "autoexec": {
      "startup": false,
      "wait_interval": 0
     }
    },
    "colab_type": "code",
    "id": "nsaASfJUUWQ4",
    "outputId": "298cb4e7-d8d1-4bd4-a249-87924f29b1d1"
   },
   "outputs": [
    {
     "name": "stdout",
     "output_type": "stream",
     "text": [
      "0.874955189278\n"
     ]
    }
   ],
   "source": [
    "#f1 score\n",
    "print(metrics.f1_score(y_test, y_pred_tree, average= 'weighted'))"
   ]
  },
  {
   "cell_type": "markdown",
   "metadata": {
    "colab_type": "text",
    "id": "i3pv6rRRUWQ8"
   },
   "source": [
    "#### Decision Tree: ROC Curves and Area Under the Curve (AUC)\n",
    "Shows how recall (sensitivity) and specificity are affected by various thresholds. Shows how to use the secular and how we use the curve to compare the Decision Tree to different models."
   ]
  },
  {
   "cell_type": "code",
   "execution_count": 52,
   "metadata": {
    "colab": {
     "autoexec": {
      "startup": false,
      "wait_interval": 0
     }
    },
    "colab_type": "code",
    "id": "BgUh8BsoUWQ9",
    "outputId": "5dab4aa1-11a6-4b38-8a32-404ea974ef56"
   },
   "outputs": [
    {
     "data": {
      "text/plain": [
       "array([[ 1.,  0.],\n",
       "       [ 1.,  0.],\n",
       "       [ 1.,  0.],\n",
       "       ..., \n",
       "       [ 1.,  0.],\n",
       "       [ 1.,  0.],\n",
       "       [ 1.,  0.]])"
      ]
     },
     "execution_count": 52,
     "metadata": {},
     "output_type": "execute_result"
    }
   ],
   "source": [
    "# print the predicted probabilities for class 0 (no) and class 1 (yes)\n",
    "y_pred_prob = clf_tree.predict_proba(X_test)\n",
    "y_pred_prob"
   ]
  },
  {
   "cell_type": "code",
   "execution_count": 53,
   "metadata": {
    "colab": {
     "autoexec": {
      "startup": false,
      "wait_interval": 0
     }
    },
    "colab_type": "code",
    "id": "XP15wXudUWRF",
    "outputId": "0f09e70f-405d-4978-8ce8-9e9a00c162f4"
   },
   "outputs": [
    {
     "data": {
      "text/plain": [
       "array([ 0.,  0.,  0., ...,  0.,  0.,  0.])"
      ]
     },
     "execution_count": 53,
     "metadata": {},
     "output_type": "execute_result"
    }
   ],
   "source": [
    "# print the predicted probabilities for class 0 and class 1\n",
    "# give us all the probabilities of healthy recipes\n",
    "y_pred_prob_class_1 = y_pred_prob[ :, 1]\n",
    "y_pred_prob_class_1"
   ]
  },
  {
   "cell_type": "code",
   "execution_count": 54,
   "metadata": {
    "colab": {
     "autoexec": {
      "startup": false,
      "wait_interval": 0
     }
    },
    "colab_type": "code",
    "id": "ynYtZEpNUWRJ",
    "outputId": "1d918dd2-9169-4b2b-e158-db05ca6f44fd"
   },
   "outputs": [
    {
     "data": {
      "image/png": "[encoded data removed]",
      "text/plain": [
       "<matplotlib.figure.Figure at 0x2532b3c4f98>"
      ]
     },
     "metadata": {},
     "output_type": "display_data"
    }
   ],
   "source": [
    "#We use matplotlib to get a ROC curve for the classifier\n",
    "%matplotlib inline\n",
    "import matplotlib.pyplot as plt\n",
    "# call roc_curve using the matrix, then we use the ground truth y_test\n",
    "#we plot these 2 vectors fpr and tpr\n",
    "fpr, tpr, thresholds = metrics.roc_curve(y_test, y_pred_prob_class_1)\n",
    "plt.plot(fpr, tpr)\n",
    "plt.xlim([0.0, 1.0])\n",
    "plt.ylim([0.0, 1.0])\n",
    "plt.title('ROC curve for Decision Tree Classifier for Class 1')\n",
    "plt.xlabel('False Positive Rate')\n",
    "plt.ylabel('True Positive Rate')\n",
    "plt.grid(True)\n",
    "plt.show()"
   ]
  },
  {
   "cell_type": "markdown",
   "metadata": {
    "colab_type": "text",
    "id": "1eXIGf_bUWRL"
   },
   "source": [
    "Using the ground truth to get the probability of that class to get the AUC, which is the __percentage__ of the area that is _under the curve_"
   ]
  },
  {
   "cell_type": "code",
   "execution_count": 55,
   "metadata": {
    "colab": {
     "autoexec": {
      "startup": false,
      "wait_interval": 0
     }
    },
    "colab_type": "code",
    "id": "_xiGrzPjUWRM",
    "outputId": "3114183a-52ca-40a6-a1ba-aefd3dff1a90"
   },
   "outputs": [
    {
     "name": "stdout",
     "output_type": "stream",
     "text": [
      "0.564787944312\n"
     ]
    }
   ],
   "source": [
    "print(metrics.roc_auc_score(y_test, y_pred_prob_class_1))"
   ]
  },
  {
   "cell_type": "markdown",
   "metadata": {
    "colab_type": "text",
    "id": "vYhq0hLgUWRR"
   },
   "source": [
    "### SVM"
   ]
  },
  {
   "cell_type": "code",
   "execution_count": 56,
   "metadata": {
    "colab": {
     "autoexec": {
      "startup": false,
      "wait_interval": 0
     }
    },
    "colab_type": "code",
    "id": "xhI5fMW2UWRR",
    "outputId": "3ce0f1bc-ae6e-402b-cb6d-6ddcffc62acf"
   },
   "outputs": [
    {
     "data": {
      "text/plain": [
       "SVC(C=1.0, cache_size=200, class_weight=None, coef0=0.0,\n",
       "  decision_function_shape='ovr', degree=3, gamma='auto', kernel='rbf',\n",
       "  max_iter=-1, probability=True, random_state=None, shrinking=True,\n",
       "  tol=0.001, verbose=False)"
      ]
     },
     "execution_count": 56,
     "metadata": {},
     "output_type": "execute_result"
    }
   ],
   "source": [
    "from sklearn.svm import SVC\n",
    "#train the model on the training set\n",
    "\n",
    "clf_svm = SVC(probability=True)   #enable probability\n",
    "clf_svm.fit(X_train, y_train)"
   ]
  },
  {
   "cell_type": "code",
   "execution_count": 57,
   "metadata": {
    "colab": {
     "autoexec": {
      "startup": false,
      "wait_interval": 0
     }
    },
    "colab_type": "code",
    "id": "Lg7peJV7UWRW",
    "outputId": "9a0a9d9b-b03c-4a33-e9ee-e2a55b5c4f86"
   },
   "outputs": [
    {
     "data": {
      "text/plain": [
       "array([0, 0, 0, ..., 0, 0, 0])"
      ]
     },
     "execution_count": 57,
     "metadata": {},
     "output_type": "execute_result"
    }
   ],
   "source": [
    "from sklearn import metrics\n",
    "#make predictions on the testing set\n",
    "y_pred_svm = clf_svm.predict(X_test)\n",
    "y_pred_svm"
   ]
  },
  {
   "cell_type": "code",
   "execution_count": 58,
   "metadata": {
    "colab": {
     "autoexec": {
      "startup": false,
      "wait_interval": 0
     }
    },
    "colab_type": "code",
    "id": "5TUFVSzXUWRZ",
    "outputId": "592e08ee-dd97-4635-cf34-487def3fcdf2"
   },
   "outputs": [
    {
     "data": {
      "text/plain": [
       "array([[2929,    0],\n",
       "       [ 232,   20]], dtype=int64)"
      ]
     },
     "execution_count": 58,
     "metadata": {},
     "output_type": "execute_result"
    }
   ],
   "source": [
    "#confusion matrix\n",
    "confusion = metrics.confusion_matrix(y_test, y_pred_svm)\n",
    "confusion"
   ]
  },
  {
   "cell_type": "code",
   "execution_count": 59,
   "metadata": {
    "colab": {
     "autoexec": {
      "startup": false,
      "wait_interval": 0
     }
    },
    "colab_type": "code",
    "id": "1dkimVcAUWRb",
    "outputId": "4fb14d4e-5bc5-448c-b1fa-cefb7b569351"
   },
   "outputs": [
    {
     "name": "stdout",
     "output_type": "stream",
     "text": [
      "0.0793650793651\n"
     ]
    }
   ],
   "source": [
    "#recall score\n",
    "print(metrics.recall_score(y_test, y_pred_svm))"
   ]
  },
  {
   "cell_type": "code",
   "execution_count": 60,
   "metadata": {
    "colab": {
     "autoexec": {
      "startup": false,
      "wait_interval": 0
     }
    },
    "colab_type": "code",
    "id": "9u_VbMpZUWRe",
    "outputId": "dbe8dd09-829f-45b4-dba5-02d6245c60e5"
   },
   "outputs": [
    {
     "name": "stdout",
     "output_type": "stream",
     "text": [
      "1.0\n"
     ]
    }
   ],
   "source": [
    "#precision score\n",
    "print(metrics.precision_score(y_test, y_pred_svm))"
   ]
  },
  {
   "cell_type": "code",
   "execution_count": 61,
   "metadata": {
    "colab": {
     "autoexec": {
      "startup": false,
      "wait_interval": 0
     }
    },
    "colab_type": "code",
    "id": "uLXutXb6UWRi",
    "outputId": "8043c6ae-8785-46a6-d590-50fa7c877549"
   },
   "outputs": [
    {
     "name": "stdout",
     "output_type": "stream",
     "text": [
      "0.897352364398\n"
     ]
    }
   ],
   "source": [
    "#f1 score\n",
    "print(metrics.f1_score(y_test, y_pred_svm, average= 'weighted'))"
   ]
  },
  {
   "cell_type": "markdown",
   "metadata": {
    "colab_type": "text",
    "id": "5B3zTfmHUWRo"
   },
   "source": [
    "#### SVM: ROC Curves and Area Under the Curve (AUC)\n",
    "Shows how recall (sensitivity) and specificity are affected by various thresholds. Shows how to use the secular and how we use the curve to compare SVM to different models."
   ]
  },
  {
   "cell_type": "code",
   "execution_count": 62,
   "metadata": {
    "colab": {
     "autoexec": {
      "startup": false,
      "wait_interval": 0
     }
    },
    "colab_type": "code",
    "id": "Cm6AEVHGUWRo",
    "outputId": "40551d15-53c2-4cae-8238-cc1016618d58"
   },
   "outputs": [
    {
     "data": {
      "text/plain": [
       "array([[ 0.92476354,  0.07523646],\n",
       "       [ 0.92476354,  0.07523646],\n",
       "       [ 0.92476354,  0.07523646],\n",
       "       ..., \n",
       "       [ 0.92664516,  0.07335484],\n",
       "       [ 0.92476354,  0.07523646],\n",
       "       [ 0.92476357,  0.07523643]])"
      ]
     },
     "execution_count": 62,
     "metadata": {},
     "output_type": "execute_result"
    }
   ],
   "source": [
    "# print the predicted probabilities for class 0 (no) and class 1 (yes)\n",
    "y_pred_prob = clf_svm.predict_proba(X_test)\n",
    "y_pred_prob"
   ]
  },
  {
   "cell_type": "code",
   "execution_count": 63,
   "metadata": {
    "colab": {
     "autoexec": {
      "startup": false,
      "wait_interval": 0
     }
    },
    "colab_type": "code",
    "id": "rKMScWeKUWRr",
    "outputId": "ee91e049-184c-4071-fe4c-ef0037252b19"
   },
   "outputs": [
    {
     "data": {
      "text/plain": [
       "array([ 0.07523646,  0.07523646,  0.07523646, ...,  0.07335484,\n",
       "        0.07523646,  0.07523643])"
      ]
     },
     "execution_count": 63,
     "metadata": {},
     "output_type": "execute_result"
    }
   ],
   "source": [
    "# print the predicted probabilities for class 0 and class 1\n",
    "# give us all the probabilities of healthy recipes\n",
    "y_pred_prob_class_1 = y_pred_prob[ :, 1]\n",
    "y_pred_prob_class_1"
   ]
  },
  {
   "cell_type": "code",
   "execution_count": 64,
   "metadata": {
    "colab": {
     "autoexec": {
      "startup": false,
      "wait_interval": 0
     }
    },
    "colab_type": "code",
    "id": "ufiRpW_cUWR3",
    "outputId": "25eedcf4-abc2-4a63-ee7b-e736ffd22f9d"
   },
   "outputs": [
    {
     "data": {
      "image/png": "[encoded data removed]",
      "text/plain": [
       "<matplotlib.figure.Figure at 0x2532b458828>"
      ]
     },
     "metadata": {},
     "output_type": "display_data"
    }
   ],
   "source": [
    "#We use matplotlib to get a ROC curve for the classifier\n",
    "%matplotlib inline\n",
    "import matplotlib.pyplot as plt\n",
    "# call roc_curve using the matrix, then we use the ground truth y_test\n",
    "#we plot these 2 vectors fpr and tpr\n",
    "fpr, tpr, thresholds = metrics.roc_curve(y_test, y_pred_prob_class_1)\n",
    "plt.plot(fpr, tpr)\n",
    "plt.xlim([0.0, 1.0])\n",
    "plt.ylim([0.0, 1.0])\n",
    "plt.title('ROC curve for SVM Classifier for Class 1')\n",
    "plt.xlabel('False Positive Rate')\n",
    "plt.ylabel('True Positive Rate')\n",
    "plt.grid(True)\n",
    "plt.show()"
   ]
  },
  {
   "cell_type": "markdown",
   "metadata": {
    "colab_type": "text",
    "id": "l8AvO0CmUWR5"
   },
   "source": [
    "Using the ground truth to get the probability of that class to get the AUC, which is the __percentage__ of the area that is _under the curve_"
   ]
  },
  {
   "cell_type": "code",
   "execution_count": 65,
   "metadata": {
    "colab": {
     "autoexec": {
      "startup": false,
      "wait_interval": 0
     }
    },
    "colab_type": "code",
    "id": "6kDhm8LaUWR6",
    "outputId": "add5109d-d6c0-415b-879c-46ef7eeeec6b"
   },
   "outputs": [
    {
     "name": "stdout",
     "output_type": "stream",
     "text": [
      "0.637613330299\n"
     ]
    }
   ],
   "source": [
    "print(metrics.roc_auc_score(y_test, y_pred_prob_class_1))"
   ]
  },
  {
   "cell_type": "markdown",
   "metadata": {
    "colab_type": "text",
    "id": "8c6-AxD2UWR8"
   },
   "source": [
    "### Logistic Regression"
   ]
  },
  {
   "cell_type": "code",
   "execution_count": 66,
   "metadata": {
    "colab": {
     "autoexec": {
      "startup": false,
      "wait_interval": 0
     }
    },
    "colab_type": "code",
    "id": "ejfOI9BUUWSD",
    "outputId": "3a1b0e7c-5516-409f-c158-84e9e0818c6f"
   },
   "outputs": [
    {
     "data": {
      "text/plain": [
       "LogisticRegression(C=1.0, class_weight=None, dual=False, fit_intercept=True,\n",
       "          intercept_scaling=1, max_iter=100, multi_class='ovr', n_jobs=1,\n",
       "          penalty='l2', random_state=None, solver='liblinear', tol=0.0001,\n",
       "          verbose=0, warm_start=False)"
      ]
     },
     "execution_count": 66,
     "metadata": {},
     "output_type": "execute_result"
    }
   ],
   "source": [
    "from sklearn import linear_model\n",
    "#train the model on the training set\n",
    "\n",
    "clf_lr = linear_model.LogisticRegression()\n",
    "clf_lr.fit(X_train, y_train)"
   ]
  },
  {
   "cell_type": "code",
   "execution_count": 67,
   "metadata": {
    "colab": {
     "autoexec": {
      "startup": false,
      "wait_interval": 0
     }
    },
    "colab_type": "code",
    "id": "uGS_3U5MUWSU",
    "outputId": "550654df-baed-4815-c654-3cf33e3444c2"
   },
   "outputs": [
    {
     "data": {
      "text/plain": [
       "array([0, 0, 0, ..., 0, 0, 0])"
      ]
     },
     "execution_count": 67,
     "metadata": {},
     "output_type": "execute_result"
    }
   ],
   "source": [
    "from sklearn import metrics\n",
    "#make predictions on the testing set\n",
    "y_pred_lr = clf_lr.predict(X_test)\n",
    "y_pred_lr"
   ]
  },
  {
   "cell_type": "code",
   "execution_count": 68,
   "metadata": {
    "colab": {
     "autoexec": {
      "startup": false,
      "wait_interval": 0
     }
    },
    "colab_type": "code",
    "id": "9W7VlypoUWSX",
    "outputId": "2d4c9aa1-e18b-49db-db84-26af37268375"
   },
   "outputs": [
    {
     "data": {
      "text/plain": [
       "array([[2929,    0],\n",
       "       [ 252,    0]], dtype=int64)"
      ]
     },
     "execution_count": 68,
     "metadata": {},
     "output_type": "execute_result"
    }
   ],
   "source": [
    "#confusion matrix\n",
    "confusion = metrics.confusion_matrix(y_test, y_pred_lr)\n",
    "confusion"
   ]
  },
  {
   "cell_type": "code",
   "execution_count": 69,
   "metadata": {
    "colab": {
     "autoexec": {
      "startup": false,
      "wait_interval": 0
     }
    },
    "colab_type": "code",
    "id": "X5x5MU7MUWSc",
    "outputId": "34287b10-2d7f-48b2-e680-a957f11fbe78"
   },
   "outputs": [
    {
     "name": "stdout",
     "output_type": "stream",
     "text": [
      "0.0\n"
     ]
    }
   ],
   "source": [
    "#recall score\n",
    "print(metrics.recall_score(y_test, y_pred_lr))"
   ]
  },
  {
   "cell_type": "code",
   "execution_count": 70,
   "metadata": {
    "colab": {
     "autoexec": {
      "startup": false,
      "wait_interval": 0
     }
    },
    "colab_type": "code",
    "id": "CApBcCMoUWSg",
    "outputId": "80f97713-0173-41f7-cae9-a850d0d41dea"
   },
   "outputs": [
    {
     "name": "stdout",
     "output_type": "stream",
     "text": [
      "0.0\n"
     ]
    },
    {
     "name": "stderr",
     "output_type": "stream",
     "text": [
      "C:\\Users\\Jenny\\Anaconda3\\lib\\site-packages\\sklearn\\metrics\\classification.py:1135: UndefinedMetricWarning: Precision is ill-defined and being set to 0.0 due to no predicted samples.\n",
      "  'precision', 'predicted', average, warn_for)\n"
     ]
    }
   ],
   "source": [
    "#precision score\n",
    "print(metrics.precision_score(y_test, y_pred_lr))"
   ]
  },
  {
   "cell_type": "code",
   "execution_count": 71,
   "metadata": {
    "colab": {
     "autoexec": {
      "startup": false,
      "wait_interval": 0
     }
    },
    "colab_type": "code",
    "id": "feQ29drRUWSm",
    "outputId": "d42ebabe-446a-4ca4-e7c0-4c7aab758557"
   },
   "outputs": [
    {
     "name": "stdout",
     "output_type": "stream",
     "text": [
      "0.882803120615\n"
     ]
    },
    {
     "name": "stderr",
     "output_type": "stream",
     "text": [
      "C:\\Users\\Jenny\\Anaconda3\\lib\\site-packages\\sklearn\\metrics\\classification.py:1135: UndefinedMetricWarning: F-score is ill-defined and being set to 0.0 in labels with no predicted samples.\n",
      "  'precision', 'predicted', average, warn_for)\n"
     ]
    }
   ],
   "source": [
    "#f1 score\n",
    "print(metrics.f1_score(y_test, y_pred_lr, average= 'weighted'))"
   ]
  },
  {
   "cell_type": "markdown",
   "metadata": {
    "colab_type": "text",
    "id": "8x9rCc42UWSr"
   },
   "source": [
    "#### Logistic Regression: ROC Curves and Area Under the Curve (AUC)\n",
    "Shows how recall (sensitivity) and specificity are affected by various thresholds. Shows how to use the secular and how we use the curve to compare the Logistic Regression to different models."
   ]
  },
  {
   "cell_type": "code",
   "execution_count": 72,
   "metadata": {
    "colab": {
     "autoexec": {
      "startup": false,
      "wait_interval": 0
     }
    },
    "colab_type": "code",
    "id": "OrjxE_NxUWSr",
    "outputId": "1193bd6e-329c-414c-f2d4-d79b8c5ee089"
   },
   "outputs": [
    {
     "name": "stderr",
     "output_type": "stream",
     "text": [
      "C:\\Users\\Jenny\\Anaconda3\\lib\\site-packages\\sklearn\\linear_model\\base.py:340: RuntimeWarning: overflow encountered in exp\n",
      "  np.exp(prob, prob)\n"
     ]
    },
    {
     "data": {
      "text/plain": [
       "array([[ 0.91451574,  0.08548426],\n",
       "       [ 0.99435928,  0.00564072],\n",
       "       [ 0.95985103,  0.04014897],\n",
       "       ..., \n",
       "       [ 0.87298164,  0.12701836],\n",
       "       [ 0.93644612,  0.06355388],\n",
       "       [ 0.93274916,  0.06725084]])"
      ]
     },
     "execution_count": 72,
     "metadata": {},
     "output_type": "execute_result"
    }
   ],
   "source": [
    "# print the predicted probabilities for class 0 (no) and class 1 (yes)\n",
    "y_pred_prob = clf_lr.predict_proba(X_test)\n",
    "y_pred_prob"
   ]
  },
  {
   "cell_type": "code",
   "execution_count": 73,
   "metadata": {
    "colab": {
     "autoexec": {
      "startup": false,
      "wait_interval": 0
     }
    },
    "colab_type": "code",
    "id": "66q1AI77UWSt",
    "outputId": "432b4f39-19c2-4e42-bc49-a73d413debb1"
   },
   "outputs": [
    {
     "data": {
      "text/plain": [
       "array([ 0.08548426,  0.00564072,  0.04014897, ...,  0.12701836,\n",
       "        0.06355388,  0.06725084])"
      ]
     },
     "execution_count": 73,
     "metadata": {},
     "output_type": "execute_result"
    }
   ],
   "source": [
    "# print the predicted probabilities for class 0 and class 1\n",
    "# give us all the probabilities of healthy recipes\n",
    "y_pred_prob_class_1 = y_pred_prob[ :, 1]\n",
    "y_pred_prob_class_1"
   ]
  },
  {
   "cell_type": "code",
   "execution_count": 74,
   "metadata": {
    "colab": {
     "autoexec": {
      "startup": false,
      "wait_interval": 0
     }
    },
    "colab_type": "code",
    "id": "OJ9iSKrEUWSv",
    "outputId": "9eb06468-9bbe-4ca2-8bde-5b8a7218b1ee"
   },
   "outputs": [
    {
     "data": {
      "image/png": "[encoded data removed]",
      "text/plain": [
       "<matplotlib.figure.Figure at 0x2532b455470>"
      ]
     },
     "metadata": {},
     "output_type": "display_data"
    }
   ],
   "source": [
    "#We use matplotlib to get a ROC curve for the classifier\n",
    "%matplotlib inline\n",
    "import matplotlib.pyplot as plt\n",
    "# call roc_curve using the matrix, then we use the ground truth y_test\n",
    "#we plot these 2 vectors fpr and tpr\n",
    "fpr, tpr, thresholds = metrics.roc_curve(y_test, y_pred_prob_class_1)\n",
    "plt.plot(fpr, tpr)\n",
    "plt.xlim([0.0, 1.0])\n",
    "plt.ylim([0.0, 1.0])\n",
    "plt.title('ROC curve for Logistic Regression for class 1')\n",
    "plt.xlabel('False Positive Rate')\n",
    "plt.ylabel('True Positive Rate')\n",
    "plt.grid(True)\n",
    "plt.show()"
   ]
  },
  {
   "cell_type": "markdown",
   "metadata": {
    "colab_type": "text",
    "id": "ShoWIVA3UWSx"
   },
   "source": [
    "Using the ground truth to get the probability of that class to get the AUC, which is the __percentage__ of the area that is _under the curve_"
   ]
  },
  {
   "cell_type": "code",
   "execution_count": 75,
   "metadata": {
    "colab": {
     "autoexec": {
      "startup": false,
      "wait_interval": 0
     }
    },
    "colab_type": "code",
    "id": "YNe3tBxUUWSy",
    "outputId": "d2411198-b608-4ef2-ea1a-7ac62711d5da"
   },
   "outputs": [
    {
     "name": "stdout",
     "output_type": "stream",
     "text": [
      "0.61170045576\n"
     ]
    }
   ],
   "source": [
    "print(metrics.roc_auc_score(y_test, y_pred_prob_class_1))"
   ]
  },
  {
   "cell_type": "markdown",
   "metadata": {
    "colab_type": "text",
    "id": "PufZkO4VUWTC"
   },
   "source": [
    "## After model comparison, which is best?"
   ]
  },
  {
   "cell_type": "markdown",
   "metadata": {
    "colab_type": "text",
    "id": "aTpK8ovPUWTC"
   },
   "source": [
    "After looking at the F-measure of each algorithm and the AUC Scores, the best model is: SVM\n",
    "\n",
    "F1 Score: 0.897 <br>\n",
    "AUC Score: 0.638"
   ]
  },
  {
   "cell_type": "code",
   "execution_count": null,
   "metadata": {
    "colab": {
     "autoexec": {
      "startup": false,
      "wait_interval": 0
     }
    },
    "colab_type": "code",
    "collapsed": true,
    "id": "YbA2sKdjUWTD"
   },
   "outputs": [],
   "source": []
  }
 ],
 "metadata": {
  "colab": {
   "collapsed_sections": [
    "rjb1MR2kUWOb",
    "gWVrGPekUWOh",
    "u3P_d3P4UWOw",
    "4lqMIQfBUWPS",
    "JLLMqFqOUWQE",
    "S8u27wioUWQb",
    "i3pv6rRRUWQ8",
    "vYhq0hLgUWRR",
    "5B3zTfmHUWRo",
    "8c6-AxD2UWR8",
    "8x9rCc42UWSr",
    "aTpK8ovPUWTC"
   ],
   "default_view": {},
   "name": "mining-my-food-v4.ipynb",
   "provenance": [],
   "version": "0.3.2",
   "views": {}
  },
  "kernelspec": {
   "display_name": "Python 3",
   "language": "python",
   "name": "python3"
  },
  "language_info": {
   "codemirror_mode": {
    "name": "ipython",
    "version": 3
   },
   "file_extension": ".py",
   "mimetype": "text/x-python",
   "name": "python",
   "nbconvert_exporter": "python",
   "pygments_lexer": "ipython3",
   "version": "3.6.3"
  }
 },
 "nbformat": 4,
 "nbformat_minor": 1
}
